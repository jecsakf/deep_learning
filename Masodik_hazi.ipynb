{
  "nbformat": 4,
  "nbformat_minor": 0,
  "metadata": {
    "colab": {
      "name": "Masodik_hazi.ipynb",
      "provenance": [],
      "collapsed_sections": [],
      "include_colab_link": true
    },
    "kernelspec": {
      "name": "python3",
      "display_name": "Python 3"
    }
  },
  "cells": [
    {
      "cell_type": "markdown",
      "metadata": {
        "id": "view-in-github",
        "colab_type": "text"
      },
      "source": [
        "<a href=\"https://colab.research.google.com/github/jecsakf/deep_learning/blob/main/Masodik_hazi.ipynb\" target=\"_parent\"><img src=\"https://colab.research.google.com/assets/colab-badge.svg\" alt=\"Open In Colab\"/></a>"
      ]
    },
    {
      "cell_type": "markdown",
      "metadata": {
        "id": "UPNGQgO6aXtZ"
      },
      "source": [
        "# 2. házi feladat\n",
        "\n",
        "A második házi feladat során egy egyszerű Multi-layer Perceptron (MLP) típusú neuronhálót kell betanítani és kiértékelni egy regressziós és egy klasszifikációs feladaton a Keras könyvtár segítségével. \n",
        "\n",
        "A házi feladat több részfeladatból áll (A - I), melyek egymásra épülnek. A feladat automatikus tesztelőszkripttel rendelkezik. Éppen ezért, **ne változtasd meg a notebook struktúráját**, ne szedd több részre, illetve ne módosítsd a megírt részeket, csak a megoldásaidat írd be a megfelelő helyre, különben nem fogjuk tudni értékelni. A megoldások az `# Implement your solution BELOW` és `# Implement your solution ABOVE` sorok közé írandók. Ha a megoldott részfeladatok futtatásakor az \"Tester: .... OK\" felirat megjelenik, _feltehetően_ jó a megoldás."
      ]
    },
    {
      "cell_type": "markdown",
      "metadata": {
        "id": "dEKuTE7hGsZr"
      },
      "source": [
        "Tesztelő szkript letöltése, importok."
      ]
    },
    {
      "cell_type": "code",
      "metadata": {
        "id": "dc9fa3F-T0u5",
        "colab": {
          "base_uri": "https://localhost:8080/"
        },
        "outputId": "9b5c225b-0402-4e88-aa5f-f59a7ee63d7a"
      },
      "source": [
        "# Download tester\n",
        "!rm tester.py\n",
        "!wget http://nipg12.inf.elte.hu/~vavsaai@nipg.lab/annbsc21_p1_hw2/tester.py \n",
        "\n",
        "import numpy as np\n",
        "\n",
        "%tensorflow_version 2.x\n",
        "import tensorflow as tf\n",
        "import tensorflow.keras.models\n",
        "import tensorflow.keras.optimizers\n",
        "import tensorflow.keras.layers\n",
        "import tensorflow.keras.activations\n",
        "import tensorflow.keras.callbacks\n",
        "\n",
        "import matplotlib.pyplot as plt\n",
        "\n",
        "# import tester after importing tensorflow, to make sure correct tf version is imported\n",
        "from tester import Tester\n"
      ],
      "execution_count": 1,
      "outputs": [
        {
          "output_type": "stream",
          "name": "stdout",
          "text": [
            "rm: cannot remove 'tester.py': No such file or directory\n",
            "--2022-08-08 12:30:02--  http://nipg12.inf.elte.hu/~vavsaai@nipg.lab/annbsc21_p1_hw2/tester.py\n",
            "Resolving nipg12.inf.elte.hu (nipg12.inf.elte.hu)... 157.181.160.172\n",
            "Connecting to nipg12.inf.elte.hu (nipg12.inf.elte.hu)|157.181.160.172|:80... connected.\n",
            "HTTP request sent, awaiting response... 200 OK\n",
            "Length: 41348 (40K) [text/plain]\n",
            "Saving to: ‘tester.py’\n",
            "\n",
            "tester.py           100%[===================>]  40.38K   245KB/s    in 0.2s    \n",
            "\n",
            "2022-08-08 12:30:05 (245 KB/s) - ‘tester.py’ saved [41348/41348]\n",
            "\n",
            "Colab only includes TensorFlow 2.x; %tensorflow_version has no effect.\n"
          ]
        }
      ]
    },
    {
      "cell_type": "markdown",
      "metadata": {
        "id": "BJ7TTytUaUwW"
      },
      "source": [
        "###**A**: Az adatbázis letöltése\n",
        "\n",
        "**A/1 - A/6**: A tesztelőszkript a számodra szükséges adatbázist tölti le és a részedre kiosztott feladatok helyességét fogja tesztelni. Ehhez az alábbi kódblokk tetején, a Tester példányosításakor paraméterként a Neptun-kódodat kell megadni egy sztringként, pl: \n",
        "`tester = Tester('DK7UAQ')`\n",
        "\n",
        "**Információ az adatbázisokról**:\n",
        "Az adatbázisok a UCI Machine Learning Repository-ról származnak.\n",
        "- **A/1**: Különböző vegyületekre (a vegyületek tulajdonságai alapján) próbáljuk megbecsülni azt a mennyiséget, ami az esetek 50%-ában megöli a _Pimephales promelas_ fajtájú halat. http://archive.ics.uci.edu/ml/datasets/QSAR+fish+toxicity\n",
        "- **A/2**: Két portugál középiskolában a tanulók évvégi matematika jegyét (0-20) próbáljuk megbecsülni a tanulók szociális és pénzügyi háttere alapján. http://archive.ics.uci.edu/ml/datasets/Student+Performance \n",
        "- **A/3**: Lásd A/2, matematika helyett portugál nyelv tárgyból.\n",
        "- **A/4**: Lásd A/2. Az A/2. és A/3.-ban használt adatbázisok esetében az input változók közt megtalálhatók a tanulók első- és második harmadévvégi osztályzata az adott tárgyból. Ezekkel nyilvánvalóan erősen korrelál az év végi jegy, így nehezíti a feladatot, ha ezeket az input változókat elhagyjuk. Az A/4 és A/5. adatbázisaiból ezek a változók hiányoznak, így jelentősen gyengébb eredmény várható.\n",
        "- **A/5**: Lásd A/4, matematika helyett portugál nyelv tárgyból.\n",
        "- **A/6**: Betontömbök nyomószilárdságát (~1-100 MPa) próbáljuk megbecsülni a betontömbök összetevőinek mennyiségéből, előállítási körülményeikből és korukból. http://archive.ics.uci.edu/ml/datasets/Concrete+Compressive+Strength\n",
        "\n",
        "A tesztelőszkript letölti a szöveges formában tárolt adatbázist és elhelyezi a `content` sztringben. Alább, kiírjuk a hosszát és az első 500 karaktert is a sztringből. Az adatbázis fájlok egy-egy sora adja meg az egy-egy mintaelemhez tartozó adatokat, ahol az utolsó érték a címke, míg a többi érték az input változók értékeit kódolja. Az adatbázis első sora a változók neveit tartalmazza.\n",
        "\n",
        "A feladatod, hogy alakítsd át a `content` sztringet az adatbázis input változóit és címkéit tartalmazó tömbbé. A tömbök típusa np.float32 (lebegőpontos) típusú legyen! Az input változók értékeit helyezd el a `features` (n_mintaelem, n_valtozo) alakú tömbben, míg a címkéket a `labels` (n_mintaelem,) alakú tömbben!\n",
        "\n"
      ]
    },
    {
      "cell_type": "code",
      "metadata": {
        "id": "OdKqP5OvXJpX",
        "colab": {
          "base_uri": "https://localhost:8080/"
        },
        "outputId": "87448e65-5d2c-4d9e-e705-932f20991d33"
      },
      "source": [
        "tester = Tester('BQ2RKO')\n",
        "content = tester.get_dataset_content()\n",
        "\n",
        "print(len(content))\n",
        "print(content[:500])\n"
      ],
      "execution_count": null,
      "outputs": [
        {
          "output_type": "stream",
          "text": [
            "27543\n",
            "school;sex;age;address;famsize;Pstatus;Medu;Fedu;Mjob;Fjob;reason;guardian;traveltime;studytime;failures;schoolsup;famsup;paid;activities;nursery;higher;internet;romantic;famrel;freetime;goout;Dalc;Walc;health;absences;G1;G2;G3\n",
            "0;0;18;0;1;1;4;4;5;0;4;0;2;2;0;0;1;1;1;0;0;1;1;4;3;4;1;1;3;6;5;6;6\n",
            "0;0;17;0;1;0;1;1;5;3;4;1;1;2;0;1;0;1;1;1;0;0;1;5;3;3;1;1;3;4;5;5;6\n",
            "0;0;15;0;0;0;1;1;5;3;3;0;1;2;3;0;1;0;1;0;0;0;1;4;3;2;2;3;3;10;7;8;10\n",
            "0;0;15;0;1;0;4;2;1;4;0;0;1;3;0;1;0;0;0;0;0;0;0;3;2;2;1;1;5;2;15;14;15\n"
          ],
          "name": "stdout"
        }
      ]
    },
    {
      "cell_type": "code",
      "metadata": {
        "id": "q_kfEC4sEMtw",
        "colab": {
          "base_uri": "https://localhost:8080/"
        },
        "outputId": "6f6ed694-a9f9-4803-e7a2-b3dee9e0bd38"
      },
      "source": [
        "# implement your solution BELOW\n",
        "\n",
        "lines = content.split(\"\\n\")\n",
        "words = [line.split(\";\") for line in lines]\n",
        "\n",
        "attributes = words[0]\n",
        "\n",
        "labels = words[1:len(words)-1]\n",
        "labels = [rec[-1] for rec in labels]\n",
        "labels = np.array(labels, dtype=np.float32)\n",
        "\n",
        "features = words[1:len(words)-1]\n",
        "features = [rec[:len(rec)-1] for rec in features] \n",
        "features = np.array(features, dtype=np.float32)\n",
        "\n",
        "tester.test('dataset_shape', features, labels)\n"
      ],
      "execution_count": null,
      "outputs": [
        {
          "output_type": "stream",
          "text": [
            "Tester: Dataset preparation OK\n"
          ],
          "name": "stdout"
        }
      ]
    },
    {
      "cell_type": "markdown",
      "metadata": {
        "id": "KrE7NLJTR7Aq"
      },
      "source": [
        "## **B**: Tanító-, validációs- és teszthalmaz szétválasztása\n",
        "\n",
        "Keverd meg véletlenszerűen a mintaelemeket a `features` és `labels` tömbökben (természetesen a két tömb permutálása legyen azonos)! Ez azért szükséges, mert az adatbázisban az elemek lehet, hogy rendezettek pl. a címkék szerint. Megkeverés nélkül, a szétválasztott halmazokban jelentősen különbözne a címkék eloszlása. \n",
        "\n",
        "Ezt követően válaszd szét a tömböket tanító-, validációs- és teszthalmazra!\n",
        "\n",
        "A szétválasztás történjen az alábbi arányokkal:\n",
        "- **B/1**.: 70% / 15% / 15%\n",
        "- **B/2**: 60% / 20% / 20%\n",
        "- **B/3**: 50% / 25% / 25%\n",
        "\n",
        "A halmazokat tartalmazó három-három input- és címketömb változókat nevezd el `x_unnorm_train`, `x_unnorm_val`, `x_unnorm_test`, `y_train`, `y_val`, `y_test`-nek sorrendben."
      ]
    },
    {
      "cell_type": "code",
      "metadata": {
        "id": "ls4niplvUgQ6",
        "colab": {
          "base_uri": "https://localhost:8080/"
        },
        "outputId": "9facef9b-cc99-4bc7-8021-127fd5416e67"
      },
      "source": [
        "# implement your solution BELOW\n",
        "random = np.random.permutation(len(labels))\n",
        "\n",
        "features = np.array(features, dtype=np.float32)\n",
        "labels = np.array(labels, dtype=np.float32)\n",
        "features = features[random]\n",
        "labels = labels[random]\n",
        "\n",
        "#ub = upper_bound\n",
        "train_ub = int(395*0.6)\n",
        "val_ub = train_ub+int(395*0.2)\n",
        "\n",
        "x_unnorm_train = features[:train_ub]\n",
        "y_train = labels[:train_ub]\n",
        "\n",
        "x_unnorm_val = features[train_ub:val_ub]\n",
        "y_val = labels[train_ub:val_ub]\n",
        "\n",
        "x_unnorm_test = features[val_ub:]\n",
        "y_test = labels[val_ub:]\n",
        "# implement your solution ABOVE\n",
        "\n",
        "tester.test('dataset_split', x_unnorm_train, x_unnorm_val, x_unnorm_test,\\\n",
        "                             y_train, y_val, y_test)\n"
      ],
      "execution_count": null,
      "outputs": [
        {
          "output_type": "stream",
          "text": [
            "Tester: Dataset split OK\n"
          ],
          "name": "stdout"
        }
      ]
    },
    {
      "cell_type": "markdown",
      "metadata": {
        "id": "zjm2zVN92yGq"
      },
      "source": [
        "## **C**: Az input változók azonos nagyságrendre hozása\n",
        "\n",
        "A változók azonos nagyságrendre hozása az alábbi technikával történjen:\n",
        "- **C/1**: sztenderdizáció (0 átlag, 1 szórás)\n",
        "- **C/2**: min-max skálázás (0 minimum, 1 maximum)\n",
        "\n",
        "A változókat egymástól függetlenül kell skálázni. A skálázáshoz szükséges átlagot és szórást / minimumot és maximumot a tanítóhalmazon számold ki, majd alkalmazd őket a validációs és a teszt halmazra. Ez azért szükséges, mert a teszthalmazról azt feltételezzük, hogy ismeretlen a betanítás során, pontosan azért, hogy semmi esetre se tudjuk hozzáigazítani a tanított modellünket. \n",
        "\n",
        "**A feladatot *NumPy* segítségével kell megoldani. Ennek a részfeladatnak a megoldásához nem megengedett a *Keras* és a *TensorFlow* könyvtárnak és azok almoduljainak használata.**\n",
        "\n",
        "A skálázott halmazokat tartalmazó három változót nevezd el `x_train`, `x_val`, `x_test`-nek sorrendben!"
      ]
    },
    {
      "cell_type": "code",
      "metadata": {
        "id": "Q9SLPxkO3RZe",
        "colab": {
          "base_uri": "https://localhost:8080/"
        },
        "outputId": "78919e85-751a-4f25-a358-67d6d76c5cf1"
      },
      "source": [
        "# implement your solution BELOW\n",
        "min = np.min(x_unnorm_train, axis=0)\n",
        "max = np.max(x_unnorm_train, axis=0)\n",
        "x_train = (x_unnorm_train-min) / (max-min)\n",
        "x_val = (x_unnorm_val-min) / (max-min)\n",
        "x_test = (x_unnorm_test-min) / (max-min)\n",
        "\n",
        "# implement your solution ABOVE\n",
        "\n",
        "tester.test('dataset_rescale', x_train, x_val, x_test)\n"
      ],
      "execution_count": null,
      "outputs": [
        {
          "output_type": "stream",
          "text": [
            "Tester: Feature rescale OK\n"
          ],
          "name": "stdout"
        }
      ]
    },
    {
      "cell_type": "markdown",
      "metadata": {
        "id": "dohOMs4NlVXG"
      },
      "source": [
        "## **D**: A regressziós neuronháló definiálása Keras-ban \n",
        "\n",
        "Használd a `keras.models.Sequential()` osztályt a háló definiálásához! A háló architektúráját az alábbiak alapján alakítsd ki:\n",
        "- **D/1**: Kétrétegű háló, az első réteg neuronjainak száma 50, aktivációs függvénye ReLU. Az első réteg után alkalmazz dropout-ot neurononként 30%-os valószínűséggel!\n",
        "- **D/2**: Négyrétegű háló, a neuronok száma rendre 20, 20, 10, aktivációs függvényük ReLU. Az egyes rétegek közé tégy dropout rétegeket, melyek 20%-os valószínűséggel nulláznak ki egy-egy elemet!\n",
        "- **D/3**: Háromrétegű háló, a neuronok száma rendre 50, 30. Aktivációs függvényként használj sorban tanh-t, majd ReLU-t!\n",
        "\n",
        "Minden esetben csak teljesen összekötött (dense) rétegeket, valamint dropout rétegeket kell használnod. Az aktivációs függvényeket a teljesen összekötött rétegek `activation` paramétereként add meg (azaz most ne használj külön Acitvation rétegeket). A rétegek számába beleértendő a kimenetre képző, utolsó réteg is, melynek méretét a címke mérete határozza meg. Alkalmazd a tanult aktivációs függvényt az utolsó rétegen, függően a feladat típusától.\n",
        "A modellt fordítsd le a `compile()` függvény segítségével: a költségfüggvény legyen a szokásos, regresszióhoz használatos átlagos négyzetes eltérés (MSE), optimizer algoritmusként pedig alkalmazd az SGD algoritmust megfelelő tanulási rátával! \n",
        "A regressziós neuronhálót tartalmazó keras.models.Sequential() típusú változót nevezd el `reg_model`-nek!"
      ]
    },
    {
      "cell_type": "code",
      "metadata": {
        "id": "rAywpNOml4VL",
        "colab": {
          "base_uri": "https://localhost:8080/"
        },
        "outputId": "fef7cd2b-242f-4f64-9d03-cb9a5ce30ce2"
      },
      "source": [
        "# implement your solution BELOW\n",
        "import keras\n",
        "import keras.utils\n",
        "from keras import utils as np_utils\n",
        "\n",
        "reg_model = keras.models.Sequential()\n",
        "reg_model.add(keras.layers.Dense(20, activation=\"relu\", input_dim=x_train.shape[1]))\n",
        "reg_model.add(keras.layers.Dropout(0.2))\n",
        "reg_model.add(keras.layers.Dense(20, activation=\"relu\"))\n",
        "reg_model.add(keras.layers.Dropout(0.2))\n",
        "reg_model.add(keras.layers.Dense(10, activation=\"relu\"))\n",
        "reg_model.add(keras.layers.Dropout(0.2))\n",
        "reg_model.add(keras.layers.Dense(1, activation=\"linear\"))\n",
        "\n",
        "reg_model.compile(optimizer=keras.optimizers.SGD(learning_rate = 0.001), loss=\"mse\", metrics=['mean_squared_error','mean_absolute_error'])\n",
        "# implement your solution ABOVE\n",
        "\n",
        "tester.test('reg_model_architecture', reg_model)"
      ],
      "execution_count": null,
      "outputs": [
        {
          "output_type": "stream",
          "text": [
            "Tester: Regression model architecture OK\n"
          ],
          "name": "stdout"
        }
      ]
    },
    {
      "cell_type": "markdown",
      "metadata": {
        "id": "Pz4fFtBUhUXV"
      },
      "source": [
        "## **E**: A háló betanítása regressziós feladatra\n",
        "\n",
        "Tanítsd be a neuronhálót a tanítóhalmazon! Használj early stopping-ot a validációs halmazzal! A tanulási rátát, epoch-ok maximális számát, a batch méretet, az early stopping `patience` paraméterét szabadon átállíthatod. Próbálgathatsz különböző kombinációkat, hogy jobb eredményt érj el.\n",
        "\n",
        "- Rajzold ki, hogyan alakult a tanulási és validációs költség a betanítás során! Ehhez használhatod a `matplotlib` könyvtárat, példát találsz a 8. előadás notebookjában. \n",
        "- A négyzetes (MSE) költség mellett az átlagos abszolút hiba (Mean Absolute Error, MAE) tanító- és validációs halmazon történő alakulását is rajzold ki egy másik grafikonon! A grafikonok y tengelyének megjelenített értékhatárait úgy állítsd be, hogy mindegyik idősor látható legyen és könnyen ki lehessen venni a költségek alakulását a tanítás vége felé is!\n",
        "- Számold ki a betanított modell négyzetes hibáját és az átlagos abszolút hibát a teszthalamzon, majd add értékül ezeket az értékeket a `test_mse` és `test_mae` változóknak!\n",
        "- Válassz néhány példát a teszthalmazból és becsülj hozzájuk címkét a betanított modellel, majd írasd ki a becsült és a megfelelő helyes címkéket! Így példákon is láthatjuk, hogy mennyire ad jó becsléseket a neuronhálónk.\n",
        "\n"
      ]
    },
    {
      "cell_type": "code",
      "metadata": {
        "id": "vQf90jJPkeUl",
        "colab": {
          "base_uri": "https://localhost:8080/",
          "height": 1000
        },
        "outputId": "fac62dc3-440d-482c-a8b1-7934bdb14d2e"
      },
      "source": [
        "# implement your solution BELOW\n",
        "\n",
        "earlystopping_callback = keras.callbacks.EarlyStopping(monitor=\"val_loss\", patience=10 )\n",
        "\n",
        "history = reg_model.fit(x_train, y_train, validation_data=(x_val, y_val),\n",
        "              batch_size=24, epochs=400, verbose=1, callbacks=[earlystopping_callback])\n",
        "\n",
        "tr_losses = history.history[\"loss\"]\n",
        "val_losses = history.history[\"val_loss\"]\n",
        "\n",
        "print(\"Final training loss: \", tr_losses[-1])\n",
        "print(\"Final validation loss: \", val_losses[-1])\n",
        "\n",
        "plt.plot(tr_losses, label=\"J_train\")\n",
        "plt.plot(val_losses, label=\"J_val\")\n",
        "plt.ylim((0,50))\n",
        "plt.xlabel(\"Number of epochs\")\n",
        "plt.ylabel(\"Cost (J)\")\n",
        "plt.legend()\n",
        "plt.show();\n",
        "\n",
        "tr_mse = history.history['mean_squared_error']\n",
        "val_mse = history.history['val_mean_squared_error']\n",
        "tr_mae = history.history['mean_absolute_error']\n",
        "val_mae = history.history['val_mean_absolute_error']\n",
        "\n",
        "plt.plot(tr_mse, label=\"MSE_train\")\n",
        "plt.plot(val_mse, label=\"MSE_val\")\n",
        "plt.ylim((0,20))\n",
        "plt.xlabel(\"Number of epochs\")\n",
        "plt.ylabel(\"Measure\")\n",
        "plt.legend()\n",
        "plt.show();\n",
        "\n",
        "plt.plot(tr_mae, label=\"MAE_train\")\n",
        "plt.plot(val_mae, label=\"MAE_val\")\n",
        "plt.ylim((0,5))\n",
        "plt.xlabel(\"Number of epochs\")\n",
        "plt.ylabel(\"Measure\")\n",
        "plt.legend()\n",
        "plt.show();\n",
        "\n",
        "test_mse= reg_model.evaluate(x_test,y_test)[0]\n",
        "y_test_predicted = reg_model.predict(x_test).reshape(y_test.shape)\n",
        "test_mae = np.mean(np.abs(y_test_predicted - y_test))\n",
        "\n",
        "print(\"Final test loss (MSE): \", test_mse)\n",
        "print(\"Final test absolute error (MAE): \", test_mae)\n",
        "\n",
        "print(\"First test:\")\n",
        "print(\"Right label: \", y_test[3], \"Predicted label: \", y_test_predicted[3])\n",
        "print(\"Second test:\")\n",
        "print(\"Right label: \", y_test[48], \"Predicted label: \", y_test_predicted[48])\n",
        "\n",
        "# implement your solution ABOVE\n",
        "\n",
        "tester.test('reg_model_learning', test_mse, test_mae)"
      ],
      "execution_count": null,
      "outputs": [
        {
          "output_type": "stream",
          "text": [
            "Epoch 1/400\n",
            "10/10 [==============================] - 1s 26ms/step - loss: 141.3078 - mean_squared_error: 141.3078 - mean_absolute_error: 10.9882 - val_loss: 98.3096 - val_mean_squared_error: 98.3096 - val_mean_absolute_error: 9.1792\n",
            "Epoch 2/400\n",
            "10/10 [==============================] - 0s 8ms/step - loss: 82.6653 - mean_squared_error: 82.6653 - mean_absolute_error: 8.2288 - val_loss: 31.0948 - val_mean_squared_error: 31.0948 - val_mean_absolute_error: 4.8163\n",
            "Epoch 3/400\n",
            "10/10 [==============================] - 0s 7ms/step - loss: 42.8646 - mean_squared_error: 42.8646 - mean_absolute_error: 5.3060 - val_loss: 23.6927 - val_mean_squared_error: 23.6927 - val_mean_absolute_error: 3.9995\n",
            "Epoch 4/400\n",
            "10/10 [==============================] - 0s 7ms/step - loss: 42.1551 - mean_squared_error: 42.1551 - mean_absolute_error: 5.2964 - val_loss: 21.7421 - val_mean_squared_error: 21.7421 - val_mean_absolute_error: 3.7679\n",
            "Epoch 5/400\n",
            "10/10 [==============================] - 0s 7ms/step - loss: 42.8273 - mean_squared_error: 42.8273 - mean_absolute_error: 5.2842 - val_loss: 20.0013 - val_mean_squared_error: 20.0013 - val_mean_absolute_error: 3.5291\n",
            "Epoch 6/400\n",
            "10/10 [==============================] - 0s 9ms/step - loss: 34.4616 - mean_squared_error: 34.4616 - mean_absolute_error: 4.9151 - val_loss: 22.4215 - val_mean_squared_error: 22.4215 - val_mean_absolute_error: 3.8987\n",
            "Epoch 7/400\n",
            "10/10 [==============================] - 0s 8ms/step - loss: 32.0639 - mean_squared_error: 32.0639 - mean_absolute_error: 4.5887 - val_loss: 19.8398 - val_mean_squared_error: 19.8398 - val_mean_absolute_error: 3.5665\n",
            "Epoch 8/400\n",
            "10/10 [==============================] - 0s 7ms/step - loss: 30.5103 - mean_squared_error: 30.5103 - mean_absolute_error: 4.4734 - val_loss: 20.5105 - val_mean_squared_error: 20.5105 - val_mean_absolute_error: 3.6754\n",
            "Epoch 9/400\n",
            "10/10 [==============================] - 0s 7ms/step - loss: 26.6839 - mean_squared_error: 26.6839 - mean_absolute_error: 4.1168 - val_loss: 18.2751 - val_mean_squared_error: 18.2751 - val_mean_absolute_error: 3.3673\n",
            "Epoch 10/400\n",
            "10/10 [==============================] - 0s 7ms/step - loss: 30.9633 - mean_squared_error: 30.9633 - mean_absolute_error: 4.4300 - val_loss: 17.2978 - val_mean_squared_error: 17.2978 - val_mean_absolute_error: 3.2299\n",
            "Epoch 11/400\n",
            "10/10 [==============================] - 0s 6ms/step - loss: 27.3519 - mean_squared_error: 27.3519 - mean_absolute_error: 4.0468 - val_loss: 15.9103 - val_mean_squared_error: 15.9103 - val_mean_absolute_error: 2.9972\n",
            "Epoch 12/400\n",
            "10/10 [==============================] - 0s 7ms/step - loss: 28.7339 - mean_squared_error: 28.7339 - mean_absolute_error: 4.3396 - val_loss: 17.5939 - val_mean_squared_error: 17.5939 - val_mean_absolute_error: 3.3143\n",
            "Epoch 13/400\n",
            "10/10 [==============================] - 0s 7ms/step - loss: 26.3225 - mean_squared_error: 26.3225 - mean_absolute_error: 4.1449 - val_loss: 15.9243 - val_mean_squared_error: 15.9243 - val_mean_absolute_error: 3.0448\n",
            "Epoch 14/400\n",
            "10/10 [==============================] - 0s 7ms/step - loss: 29.8886 - mean_squared_error: 29.8886 - mean_absolute_error: 4.4633 - val_loss: 15.2720 - val_mean_squared_error: 15.2720 - val_mean_absolute_error: 2.9582\n",
            "Epoch 15/400\n",
            "10/10 [==============================] - 0s 7ms/step - loss: 23.6880 - mean_squared_error: 23.6880 - mean_absolute_error: 3.8466 - val_loss: 15.7582 - val_mean_squared_error: 15.7582 - val_mean_absolute_error: 3.0656\n",
            "Epoch 16/400\n",
            "10/10 [==============================] - 0s 7ms/step - loss: 23.6397 - mean_squared_error: 23.6397 - mean_absolute_error: 3.9862 - val_loss: 14.5314 - val_mean_squared_error: 14.5314 - val_mean_absolute_error: 2.8693\n",
            "Epoch 17/400\n",
            "10/10 [==============================] - 0s 7ms/step - loss: 28.8730 - mean_squared_error: 28.8730 - mean_absolute_error: 4.2072 - val_loss: 14.1388 - val_mean_squared_error: 14.1388 - val_mean_absolute_error: 2.8243\n",
            "Epoch 18/400\n",
            "10/10 [==============================] - 0s 7ms/step - loss: 25.9921 - mean_squared_error: 25.9921 - mean_absolute_error: 4.0894 - val_loss: 14.0326 - val_mean_squared_error: 14.0326 - val_mean_absolute_error: 2.8312\n",
            "Epoch 19/400\n",
            "10/10 [==============================] - 0s 7ms/step - loss: 21.6099 - mean_squared_error: 21.6099 - mean_absolute_error: 3.5664 - val_loss: 13.2038 - val_mean_squared_error: 13.2038 - val_mean_absolute_error: 2.7113\n",
            "Epoch 20/400\n",
            "10/10 [==============================] - 0s 7ms/step - loss: 23.1222 - mean_squared_error: 23.1222 - mean_absolute_error: 3.7497 - val_loss: 14.4257 - val_mean_squared_error: 14.4257 - val_mean_absolute_error: 2.9614\n",
            "Epoch 21/400\n",
            "10/10 [==============================] - 0s 7ms/step - loss: 24.0816 - mean_squared_error: 24.0816 - mean_absolute_error: 4.0030 - val_loss: 13.9580 - val_mean_squared_error: 13.9580 - val_mean_absolute_error: 2.8986\n",
            "Epoch 22/400\n",
            "10/10 [==============================] - 0s 9ms/step - loss: 20.7158 - mean_squared_error: 20.7158 - mean_absolute_error: 3.5562 - val_loss: 14.8647 - val_mean_squared_error: 14.8647 - val_mean_absolute_error: 3.0667\n",
            "Epoch 23/400\n",
            "10/10 [==============================] - 0s 7ms/step - loss: 26.6334 - mean_squared_error: 26.6334 - mean_absolute_error: 4.1462 - val_loss: 13.4900 - val_mean_squared_error: 13.4900 - val_mean_absolute_error: 2.8614\n",
            "Epoch 24/400\n",
            "10/10 [==============================] - 0s 7ms/step - loss: 24.7398 - mean_squared_error: 24.7398 - mean_absolute_error: 3.9644 - val_loss: 11.7809 - val_mean_squared_error: 11.7809 - val_mean_absolute_error: 2.5840\n",
            "Epoch 25/400\n",
            "10/10 [==============================] - 0s 7ms/step - loss: 23.2890 - mean_squared_error: 23.2890 - mean_absolute_error: 3.7869 - val_loss: 12.1221 - val_mean_squared_error: 12.1221 - val_mean_absolute_error: 2.6709\n",
            "Epoch 26/400\n",
            "10/10 [==============================] - 0s 7ms/step - loss: 22.3363 - mean_squared_error: 22.3363 - mean_absolute_error: 3.7876 - val_loss: 10.8799 - val_mean_squared_error: 10.8799 - val_mean_absolute_error: 2.4556\n",
            "Epoch 27/400\n",
            "10/10 [==============================] - 0s 8ms/step - loss: 19.3133 - mean_squared_error: 19.3133 - mean_absolute_error: 3.4350 - val_loss: 11.0379 - val_mean_squared_error: 11.0379 - val_mean_absolute_error: 2.4884\n",
            "Epoch 28/400\n",
            "10/10 [==============================] - 0s 7ms/step - loss: 18.4306 - mean_squared_error: 18.4306 - mean_absolute_error: 3.5493 - val_loss: 9.8566 - val_mean_squared_error: 9.8566 - val_mean_absolute_error: 2.2660\n",
            "Epoch 29/400\n",
            "10/10 [==============================] - 0s 7ms/step - loss: 17.2148 - mean_squared_error: 17.2148 - mean_absolute_error: 3.3110 - val_loss: 12.1582 - val_mean_squared_error: 12.1582 - val_mean_absolute_error: 2.7619\n",
            "Epoch 30/400\n",
            "10/10 [==============================] - 0s 7ms/step - loss: 18.3912 - mean_squared_error: 18.3912 - mean_absolute_error: 3.3660 - val_loss: 10.6381 - val_mean_squared_error: 10.6381 - val_mean_absolute_error: 2.4737\n",
            "Epoch 31/400\n",
            "10/10 [==============================] - 0s 7ms/step - loss: 17.0538 - mean_squared_error: 17.0538 - mean_absolute_error: 3.2304 - val_loss: 10.8864 - val_mean_squared_error: 10.8864 - val_mean_absolute_error: 2.5537\n",
            "Epoch 32/400\n",
            "10/10 [==============================] - 0s 8ms/step - loss: 20.9045 - mean_squared_error: 20.9045 - mean_absolute_error: 3.6488 - val_loss: 9.6334 - val_mean_squared_error: 9.6334 - val_mean_absolute_error: 2.3114\n",
            "Epoch 33/400\n",
            "10/10 [==============================] - 0s 9ms/step - loss: 21.5662 - mean_squared_error: 21.5662 - mean_absolute_error: 3.7419 - val_loss: 9.9523 - val_mean_squared_error: 9.9523 - val_mean_absolute_error: 2.3936\n",
            "Epoch 34/400\n",
            "10/10 [==============================] - 0s 7ms/step - loss: 18.7758 - mean_squared_error: 18.7758 - mean_absolute_error: 3.5442 - val_loss: 8.8123 - val_mean_squared_error: 8.8123 - val_mean_absolute_error: 2.1222\n",
            "Epoch 35/400\n",
            "10/10 [==============================] - 0s 7ms/step - loss: 18.3271 - mean_squared_error: 18.3271 - mean_absolute_error: 3.2215 - val_loss: 9.5877 - val_mean_squared_error: 9.5877 - val_mean_absolute_error: 2.3518\n",
            "Epoch 36/400\n",
            "10/10 [==============================] - 0s 7ms/step - loss: 16.2483 - mean_squared_error: 16.2483 - mean_absolute_error: 3.1698 - val_loss: 8.7233 - val_mean_squared_error: 8.7233 - val_mean_absolute_error: 2.1684\n",
            "Epoch 37/400\n",
            "10/10 [==============================] - 0s 7ms/step - loss: 17.0658 - mean_squared_error: 17.0658 - mean_absolute_error: 3.2989 - val_loss: 8.8377 - val_mean_squared_error: 8.8377 - val_mean_absolute_error: 2.1832\n",
            "Epoch 38/400\n",
            "10/10 [==============================] - 0s 7ms/step - loss: 19.0141 - mean_squared_error: 19.0141 - mean_absolute_error: 3.4090 - val_loss: 9.9045 - val_mean_squared_error: 9.9045 - val_mean_absolute_error: 2.4480\n",
            "Epoch 39/400\n",
            "10/10 [==============================] - 0s 7ms/step - loss: 18.6926 - mean_squared_error: 18.6926 - mean_absolute_error: 3.4536 - val_loss: 10.4234 - val_mean_squared_error: 10.4234 - val_mean_absolute_error: 2.5704\n",
            "Epoch 40/400\n",
            "10/10 [==============================] - 0s 8ms/step - loss: 17.9539 - mean_squared_error: 17.9539 - mean_absolute_error: 3.4494 - val_loss: 9.2327 - val_mean_squared_error: 9.2327 - val_mean_absolute_error: 2.3361\n",
            "Epoch 41/400\n",
            "10/10 [==============================] - 0s 8ms/step - loss: 14.2849 - mean_squared_error: 14.2849 - mean_absolute_error: 2.9685 - val_loss: 8.5232 - val_mean_squared_error: 8.5232 - val_mean_absolute_error: 2.1670\n",
            "Epoch 42/400\n",
            "10/10 [==============================] - 0s 7ms/step - loss: 18.0553 - mean_squared_error: 18.0553 - mean_absolute_error: 3.3063 - val_loss: 7.8884 - val_mean_squared_error: 7.8884 - val_mean_absolute_error: 1.9808\n",
            "Epoch 43/400\n",
            "10/10 [==============================] - 0s 8ms/step - loss: 16.0376 - mean_squared_error: 16.0376 - mean_absolute_error: 3.2787 - val_loss: 8.1389 - val_mean_squared_error: 8.1389 - val_mean_absolute_error: 2.0849\n",
            "Epoch 44/400\n",
            "10/10 [==============================] - 0s 8ms/step - loss: 16.8688 - mean_squared_error: 16.8688 - mean_absolute_error: 3.3187 - val_loss: 9.4626 - val_mean_squared_error: 9.4626 - val_mean_absolute_error: 2.4024\n",
            "Epoch 45/400\n",
            "10/10 [==============================] - 0s 7ms/step - loss: 14.3277 - mean_squared_error: 14.3277 - mean_absolute_error: 3.0791 - val_loss: 8.0359 - val_mean_squared_error: 8.0359 - val_mean_absolute_error: 2.0954\n",
            "Epoch 46/400\n",
            "10/10 [==============================] - 0s 8ms/step - loss: 14.8353 - mean_squared_error: 14.8353 - mean_absolute_error: 3.1205 - val_loss: 7.5135 - val_mean_squared_error: 7.5135 - val_mean_absolute_error: 1.9516\n",
            "Epoch 47/400\n",
            "10/10 [==============================] - 0s 7ms/step - loss: 17.3301 - mean_squared_error: 17.3301 - mean_absolute_error: 3.2303 - val_loss: 8.4759 - val_mean_squared_error: 8.4759 - val_mean_absolute_error: 2.2313\n",
            "Epoch 48/400\n",
            "10/10 [==============================] - 0s 7ms/step - loss: 15.5377 - mean_squared_error: 15.5377 - mean_absolute_error: 3.1499 - val_loss: 7.8544 - val_mean_squared_error: 7.8544 - val_mean_absolute_error: 2.0671\n",
            "Epoch 49/400\n",
            "10/10 [==============================] - 0s 7ms/step - loss: 15.3375 - mean_squared_error: 15.3375 - mean_absolute_error: 3.1818 - val_loss: 7.7433 - val_mean_squared_error: 7.7433 - val_mean_absolute_error: 2.0659\n",
            "Epoch 50/400\n",
            "10/10 [==============================] - 0s 7ms/step - loss: 18.3398 - mean_squared_error: 18.3398 - mean_absolute_error: 3.4608 - val_loss: 7.2919 - val_mean_squared_error: 7.2919 - val_mean_absolute_error: 1.9388\n",
            "Epoch 51/400\n",
            "10/10 [==============================] - 0s 7ms/step - loss: 18.4989 - mean_squared_error: 18.4989 - mean_absolute_error: 3.4599 - val_loss: 7.0159 - val_mean_squared_error: 7.0159 - val_mean_absolute_error: 1.8651\n",
            "Epoch 52/400\n",
            "10/10 [==============================] - 0s 7ms/step - loss: 14.7194 - mean_squared_error: 14.7194 - mean_absolute_error: 3.0147 - val_loss: 8.3838 - val_mean_squared_error: 8.3838 - val_mean_absolute_error: 2.2490\n",
            "Epoch 53/400\n",
            "10/10 [==============================] - 0s 7ms/step - loss: 13.8176 - mean_squared_error: 13.8176 - mean_absolute_error: 2.8459 - val_loss: 8.7941 - val_mean_squared_error: 8.7941 - val_mean_absolute_error: 2.3618\n",
            "Epoch 54/400\n",
            "10/10 [==============================] - 0s 7ms/step - loss: 16.5688 - mean_squared_error: 16.5688 - mean_absolute_error: 3.0707 - val_loss: 6.8424 - val_mean_squared_error: 6.8424 - val_mean_absolute_error: 1.8455\n",
            "Epoch 55/400\n",
            "10/10 [==============================] - 0s 7ms/step - loss: 18.3744 - mean_squared_error: 18.3744 - mean_absolute_error: 3.4367 - val_loss: 8.9824 - val_mean_squared_error: 8.9824 - val_mean_absolute_error: 2.4218\n",
            "Epoch 56/400\n",
            "10/10 [==============================] - 0s 9ms/step - loss: 14.2907 - mean_squared_error: 14.2907 - mean_absolute_error: 2.9023 - val_loss: 7.2462 - val_mean_squared_error: 7.2462 - val_mean_absolute_error: 2.0184\n",
            "Epoch 57/400\n",
            "10/10 [==============================] - 0s 9ms/step - loss: 14.5858 - mean_squared_error: 14.5858 - mean_absolute_error: 3.1006 - val_loss: 6.8362 - val_mean_squared_error: 6.8362 - val_mean_absolute_error: 1.9137\n",
            "Epoch 58/400\n",
            "10/10 [==============================] - 0s 8ms/step - loss: 15.4530 - mean_squared_error: 15.4530 - mean_absolute_error: 3.1121 - val_loss: 6.4235 - val_mean_squared_error: 6.4235 - val_mean_absolute_error: 1.7494\n",
            "Epoch 59/400\n",
            "10/10 [==============================] - 0s 8ms/step - loss: 14.1674 - mean_squared_error: 14.1674 - mean_absolute_error: 3.0904 - val_loss: 8.0520 - val_mean_squared_error: 8.0520 - val_mean_absolute_error: 2.2470\n",
            "Epoch 60/400\n",
            "10/10 [==============================] - 0s 7ms/step - loss: 13.4359 - mean_squared_error: 13.4359 - mean_absolute_error: 2.8988 - val_loss: 6.5828 - val_mean_squared_error: 6.5828 - val_mean_absolute_error: 1.8539\n",
            "Epoch 61/400\n",
            "10/10 [==============================] - 0s 7ms/step - loss: 14.8419 - mean_squared_error: 14.8419 - mean_absolute_error: 2.9601 - val_loss: 7.2485 - val_mean_squared_error: 7.2485 - val_mean_absolute_error: 2.0733\n",
            "Epoch 62/400\n",
            "10/10 [==============================] - 0s 7ms/step - loss: 16.8064 - mean_squared_error: 16.8064 - mean_absolute_error: 3.4243 - val_loss: 6.6685 - val_mean_squared_error: 6.6685 - val_mean_absolute_error: 1.9218\n",
            "Epoch 63/400\n",
            "10/10 [==============================] - 0s 7ms/step - loss: 12.5119 - mean_squared_error: 12.5119 - mean_absolute_error: 2.7502 - val_loss: 7.4633 - val_mean_squared_error: 7.4633 - val_mean_absolute_error: 2.1371\n",
            "Epoch 64/400\n",
            "10/10 [==============================] - 0s 8ms/step - loss: 13.3611 - mean_squared_error: 13.3611 - mean_absolute_error: 2.7394 - val_loss: 7.2273 - val_mean_squared_error: 7.2273 - val_mean_absolute_error: 2.0805\n",
            "Epoch 65/400\n",
            "10/10 [==============================] - 0s 8ms/step - loss: 12.4786 - mean_squared_error: 12.4786 - mean_absolute_error: 2.8707 - val_loss: 7.6724 - val_mean_squared_error: 7.6724 - val_mean_absolute_error: 2.2114\n",
            "Epoch 66/400\n",
            "10/10 [==============================] - 0s 7ms/step - loss: 14.7654 - mean_squared_error: 14.7654 - mean_absolute_error: 3.1635 - val_loss: 6.4648 - val_mean_squared_error: 6.4648 - val_mean_absolute_error: 1.8843\n",
            "Epoch 67/400\n",
            "10/10 [==============================] - 0s 8ms/step - loss: 13.8147 - mean_squared_error: 13.8147 - mean_absolute_error: 2.9425 - val_loss: 6.3044 - val_mean_squared_error: 6.3044 - val_mean_absolute_error: 1.8110\n",
            "Epoch 68/400\n",
            "10/10 [==============================] - 0s 7ms/step - loss: 12.6725 - mean_squared_error: 12.6725 - mean_absolute_error: 2.7455 - val_loss: 7.4875 - val_mean_squared_error: 7.4875 - val_mean_absolute_error: 2.1570\n",
            "Epoch 69/400\n",
            "10/10 [==============================] - 0s 7ms/step - loss: 13.5245 - mean_squared_error: 13.5245 - mean_absolute_error: 2.9300 - val_loss: 7.5814 - val_mean_squared_error: 7.5814 - val_mean_absolute_error: 2.1888\n",
            "Epoch 70/400\n",
            "10/10 [==============================] - 0s 7ms/step - loss: 10.3888 - mean_squared_error: 10.3888 - mean_absolute_error: 2.5851 - val_loss: 6.2693 - val_mean_squared_error: 6.2693 - val_mean_absolute_error: 1.8460\n",
            "Epoch 71/400\n",
            "10/10 [==============================] - 0s 7ms/step - loss: 12.5717 - mean_squared_error: 12.5717 - mean_absolute_error: 2.8083 - val_loss: 6.4287 - val_mean_squared_error: 6.4287 - val_mean_absolute_error: 1.9035\n",
            "Epoch 72/400\n",
            "10/10 [==============================] - 0s 8ms/step - loss: 12.0339 - mean_squared_error: 12.0339 - mean_absolute_error: 2.7553 - val_loss: 7.3159 - val_mean_squared_error: 7.3159 - val_mean_absolute_error: 2.1499\n",
            "Epoch 73/400\n",
            "10/10 [==============================] - 0s 7ms/step - loss: 14.2509 - mean_squared_error: 14.2509 - mean_absolute_error: 2.8856 - val_loss: 6.0346 - val_mean_squared_error: 6.0346 - val_mean_absolute_error: 1.7161\n",
            "Epoch 74/400\n",
            "10/10 [==============================] - 0s 8ms/step - loss: 15.6463 - mean_squared_error: 15.6463 - mean_absolute_error: 3.2472 - val_loss: 6.6489 - val_mean_squared_error: 6.6489 - val_mean_absolute_error: 1.9562\n",
            "Epoch 75/400\n",
            "10/10 [==============================] - 0s 7ms/step - loss: 11.4900 - mean_squared_error: 11.4900 - mean_absolute_error: 2.6971 - val_loss: 7.3822 - val_mean_squared_error: 7.3822 - val_mean_absolute_error: 2.1637\n",
            "Epoch 76/400\n",
            "10/10 [==============================] - 0s 7ms/step - loss: 13.5804 - mean_squared_error: 13.5804 - mean_absolute_error: 3.0175 - val_loss: 6.9717 - val_mean_squared_error: 6.9717 - val_mean_absolute_error: 2.0481\n",
            "Epoch 77/400\n",
            "10/10 [==============================] - 0s 7ms/step - loss: 10.6635 - mean_squared_error: 10.6635 - mean_absolute_error: 2.5947 - val_loss: 5.9473 - val_mean_squared_error: 5.9473 - val_mean_absolute_error: 1.7617\n",
            "Epoch 78/400\n",
            "10/10 [==============================] - 0s 7ms/step - loss: 12.9577 - mean_squared_error: 12.9577 - mean_absolute_error: 2.9157 - val_loss: 5.7646 - val_mean_squared_error: 5.7646 - val_mean_absolute_error: 1.6235\n",
            "Epoch 79/400\n",
            "10/10 [==============================] - 0s 7ms/step - loss: 13.1520 - mean_squared_error: 13.1520 - mean_absolute_error: 2.8403 - val_loss: 6.6307 - val_mean_squared_error: 6.6307 - val_mean_absolute_error: 1.9566\n",
            "Epoch 80/400\n",
            "10/10 [==============================] - 0s 9ms/step - loss: 12.1389 - mean_squared_error: 12.1389 - mean_absolute_error: 2.7883 - val_loss: 5.9716 - val_mean_squared_error: 5.9716 - val_mean_absolute_error: 1.7112\n",
            "Epoch 81/400\n",
            "10/10 [==============================] - 0s 8ms/step - loss: 14.8222 - mean_squared_error: 14.8222 - mean_absolute_error: 3.0351 - val_loss: 7.9042 - val_mean_squared_error: 7.9042 - val_mean_absolute_error: 2.2817\n",
            "Epoch 82/400\n",
            "10/10 [==============================] - 0s 7ms/step - loss: 16.6280 - mean_squared_error: 16.6280 - mean_absolute_error: 3.2530 - val_loss: 6.1391 - val_mean_squared_error: 6.1391 - val_mean_absolute_error: 1.7968\n",
            "Epoch 83/400\n",
            "10/10 [==============================] - 0s 8ms/step - loss: 12.8206 - mean_squared_error: 12.8206 - mean_absolute_error: 2.8321 - val_loss: 5.8008 - val_mean_squared_error: 5.8008 - val_mean_absolute_error: 1.6075\n",
            "Epoch 84/400\n",
            "10/10 [==============================] - 0s 7ms/step - loss: 12.4023 - mean_squared_error: 12.4023 - mean_absolute_error: 2.8960 - val_loss: 6.4008 - val_mean_squared_error: 6.4008 - val_mean_absolute_error: 1.9005\n",
            "Epoch 85/400\n",
            "10/10 [==============================] - 0s 9ms/step - loss: 12.9034 - mean_squared_error: 12.9034 - mean_absolute_error: 2.7415 - val_loss: 6.2680 - val_mean_squared_error: 6.2680 - val_mean_absolute_error: 1.8562\n",
            "Epoch 86/400\n",
            "10/10 [==============================] - 0s 8ms/step - loss: 13.7442 - mean_squared_error: 13.7442 - mean_absolute_error: 2.8817 - val_loss: 6.1161 - val_mean_squared_error: 6.1161 - val_mean_absolute_error: 1.8206\n",
            "Epoch 87/400\n",
            "10/10 [==============================] - 0s 7ms/step - loss: 11.8931 - mean_squared_error: 11.8931 - mean_absolute_error: 2.8021 - val_loss: 6.0406 - val_mean_squared_error: 6.0406 - val_mean_absolute_error: 1.7933\n",
            "Epoch 88/400\n",
            "10/10 [==============================] - 0s 7ms/step - loss: 12.3594 - mean_squared_error: 12.3594 - mean_absolute_error: 2.7487 - val_loss: 6.4224 - val_mean_squared_error: 6.4224 - val_mean_absolute_error: 1.9186\n",
            "Final training loss:  12.577865600585938\n",
            "Final validation loss:  6.422362327575684\n"
          ],
          "name": "stdout"
        },
        {
          "output_type": "display_data",
          "data": {
            "image/png": "[encoded data removed]",
            "text/plain": [
              "<Figure size 432x288 with 1 Axes>"
            ]
          },
          "metadata": {
            "tags": [],
            "needs_background": "light"
          }
        },
        {
          "output_type": "display_data",
          "data": {
            "image/png": "[encoded data removed]",
            "text/plain": [
              "<Figure size 432x288 with 1 Axes>"
            ]
          },
          "metadata": {
            "tags": [],
            "needs_background": "light"
          }
        },
        {
          "output_type": "display_data",
          "data": {
            "image/png": "[encoded data removed]",
            "text/plain": [
              "<Figure size 432x288 with 1 Axes>"
            ]
          },
          "metadata": {
            "tags": [],
            "needs_background": "light"
          }
        },
        {
          "output_type": "stream",
          "text": [
            "3/3 [==============================] - 0s 3ms/step - loss: 9.7372 - mean_squared_error: 9.7372 - mean_absolute_error: 2.3396\n",
            "WARNING:tensorflow:5 out of the last 13 calls to <function Model.make_predict_function.<locals>.predict_function at 0x7ff5a5b2a9e0> triggered tf.function retracing. Tracing is expensive and the excessive number of tracings could be due to (1) creating @tf.function repeatedly in a loop, (2) passing tensors with different shapes, (3) passing Python objects instead of tensors. For (1), please define your @tf.function outside of the loop. For (2), @tf.function has experimental_relax_shapes=True option that relaxes argument shapes that can avoid unnecessary retracing. For (3), please refer to https://www.tensorflow.org/guide/function#controlling_retracing and https://www.tensorflow.org/api_docs/python/tf/function for  more details.\n",
            "Final test loss (MSE):  9.73721981048584\n",
            "Final test absolute error (MAE):  2.339604\n",
            "First test:\n",
            "Right label:  0.0 Predicted label:  6.609127\n",
            "Second test:\n",
            "Right label:  5.0 Predicted label:  6.5708523\n",
            "Tester: Regression model learning OK\n"
          ],
          "name": "stdout"
        }
      ]
    },
    {
      "cell_type": "markdown",
      "metadata": {
        "id": "pTBqUmDzPiYI"
      },
      "source": [
        "## **F**: A regressziós adatbázis átalakítása klasszifikációs adatbázissá\n",
        "\n",
        "Alakítsd át a regressziós adatbázist, hogy alkalmas legyen \n",
        "klasszifikációs feladathoz! A kategóriákat az alábbiak alapján alakítsd ki : \n",
        "\n",
        "*   **F/1**: 3 kategória. A kategóriákat úgy alakítsd ki, hogy a regressziós adatbázis címkéinek intervallumán felveszel két küszöbértéket. Az első kategóriába a kisebb küszöbérték alatti, a másodikba a két küszöbérték közti és a harmadikba a nagyobb küszöbérték feletti címkével rendelkező mintaelemek kerüljenek. \n",
        "Tehát, például ha a regressziós adatbázis címkéi 3 és 8 közt vannak, akkor a két küszöbértéknek választhatjuk az 5.2-t és a 6.1-et. Ekkor az 1. kategóriába az 5.2-nél kisebb címkéjű elemek, a 2. kategóriába az 5.2 és 6.1 közti címkéjű elemek és a 3. kategóriába a 6.1-nél nagyobb címkéjű elemek kerülnek. Azonos címkéjű elemek mindenképpen azonos kategóriába kell, hogy kerüljenek.\n",
        "\n",
        "*   **F/2**: 4 kategória. A kategóriákat úgy alakítsd ki, hogy a regressziós adatbázis címkéinek intervallumán felveszel három küszöbértéket. Az első kategóriába a kisebb küszöbérték alatti, a másodikba az első és második küszöbérték közti, a harmadikba a második és a haramdik küszöbérték közti, és a negyedikbe a harmadik küszöbérték feletti címkével rendelkező mintaelemek kerüljenek. \n",
        "Tehát, például ha a regressziós adatbázis címkéi 3 és 8 közt vannak, akkor a három küszöbértéknek választhatjuk a 3.8-at, a 6.1-et és a 7.5-öt. Ekkor az 1. kategóriába az 3.8-nál kisebb címkéjű elemek, a 2. kategóriába az 3.8 és 6.1 közti címkéjű elemek, a 3. kategóriába az 6.1 és 7.5 közti címkéjű elemek és a 4. kategóriába a 7.5-nél nagyobb címkéjű elemek kerülnek. Azonos címkéjű elemek mindenképpen azonos kategóriába kell, hogy kerüljenek.\n",
        "\n",
        "\n",
        "Válaszd ki a küszöbértékeket úgy, hogy a kategóriábákba **megközelítőleg** ugyanannyi elem kerüljön! Hozd létre az új kategóriacímkéket az `y_train`, `y_val`, `y_test` tömbökből. Kerüljenek ezek a `y_cat_train`, `y_cat_val`, `y_cat_test` változókba!\n",
        "\n"
      ]
    },
    {
      "cell_type": "code",
      "metadata": {
        "id": "kCdOectqRsvz",
        "colab": {
          "base_uri": "https://localhost:8080/"
        },
        "outputId": "aec09eb5-208b-4645-92ee-8406f0893d7a"
      },
      "source": [
        "# implement your solution BELOW\n",
        "values, counts = np.unique(labels, return_counts=True)\n",
        "tierce = int(np.sum(counts)/3)\n",
        "\n",
        "csum = np.cumsum(counts)\n",
        "f_bound = values[np.argmin(abs(csum-csum[-1]/3)) + 1]\n",
        "s_bound = values[np.argmin(abs(csum-csum[-1]/3*2)) + 1]\n",
        "\n",
        "y_cat_train = np.where(y_train<f_bound, 0, np.where(y_train>s_bound, 2, 1))\n",
        "y_cat_val = np.where(y_val<f_bound, 0, np.where(y_val>s_bound, 2, 1))\n",
        "y_cat_test = np.where(y_test<f_bound, 0, np.where(y_test>s_bound, 2, 1))\n",
        "# implement your solution ABOVE\n",
        "tester.test('cl_dataset', y_cat_train, y_cat_val, y_cat_test)"
      ],
      "execution_count": null,
      "outputs": [
        {
          "output_type": "stream",
          "text": [
            "Tester: Classification dataset creation OK\n"
          ],
          "name": "stdout"
        }
      ]
    },
    {
      "cell_type": "markdown",
      "metadata": {
        "id": "z_OwgkhPxCuA"
      },
      "source": [
        "## **G**: Kategóriacímkék átalakítása one-hot kódolásra\n",
        "\n",
        "Kettőnél több kategóriás (multi-class) klasszifikációnál minden kategóriához egy valószínűséget becslünk, azaz a háló kimenete akkora méretű, ahány kategóriánk van. Így tehát az igazi címkéink ugyanekkora méretű one-hot kódolású vektorok lesznek, ezeket címkevektorokként használva fogjuk betanítani a hálót.\n",
        "\n",
        "Készítsd el a one-hot kódolású címkevektor tömböket a kategóriacímkéket tartalmazó `y_cat_train`, `y_cat_val`, `y_cat_test` tömbökből! Az új tömbök kerüljenek a `y_onehot_train`, `y_onehot_val`, `y_onehot_test` változókba! A tömbök alakja így (n_samples, n_categories), típusuk legyen `np.float32`!\n"
      ]
    },
    {
      "cell_type": "code",
      "metadata": {
        "id": "iLAlR3qyxT13",
        "colab": {
          "base_uri": "https://localhost:8080/"
        },
        "outputId": "f5454517-7e7a-4a60-ba49-eb84024a33f0"
      },
      "source": [
        "# implement your solution BELOW\n",
        "y_cat_train = np.array(y_cat_train, dtype=np.float32).reshape(-1,1)\n",
        "y_cat_val = np.array(y_cat_val, dtype=np.float32).reshape(-1,1)\n",
        "y_cat_test = np.array(y_cat_test, dtype=np.float32).reshape(-1,1)\n",
        "\n",
        "a = np.zeros((len(y_cat_train)))\n",
        "b = np.ones((len(y_cat_train)))\n",
        "c = np.full((len(y_cat_train)),2)\n",
        "y_onehot_train = np.stack([a,b,c], axis=1)\n",
        "mask = y_onehot_train == y_cat_train\n",
        "y_onehot_train = mask.astype(np.float32)\n",
        "\n",
        "a = np.zeros((len(y_cat_val)))\n",
        "b = np.ones((len(y_cat_val)))\n",
        "c = np.full((len(y_cat_val)),2)\n",
        "y_onehot_val = np.stack([a,b,c], axis=1)\n",
        "mask = y_onehot_val == y_cat_val\n",
        "y_onehot_val = mask.astype(np.float32)\n",
        "\n",
        "y_onehot_test = np.stack([a,b,c], axis=1)\n",
        "mask = y_onehot_test == y_cat_test\n",
        "y_onehot_test = mask.astype(np.float32)\n",
        "\n",
        "# implement your solution ABOVE\n",
        "\n",
        "tester.test('cl_onehot', y_onehot_train, y_onehot_val, y_onehot_test)"
      ],
      "execution_count": null,
      "outputs": [
        {
          "output_type": "stream",
          "text": [
            "Tester: One-hot conversion OK\n"
          ],
          "name": "stdout"
        }
      ]
    },
    {
      "cell_type": "markdown",
      "metadata": {
        "id": "9xdtHfyrwexF"
      },
      "source": [
        "## **H**: A klasszifikációs neuronháló definiálása Keras-ban \n",
        "\n",
        "Használd a `keras.models.Sequential()` osztályt a háló definiálásához! A háló architektúráját az alábbiak alapján alakítsd ki:\n",
        "- **H/1**: Kétrétegű háló, az első réteg neuronjainak száma 50, aktivációs függvénye ReLU. Az első réteg után alkalmazz dropout-ot neurononként 30%-os valószínűséggel!\n",
        "- **H/2**: Négyrétegű háló, a neuronok száma rendre 20, 20, 10, aktivációs függvényük ReLU. Az egyes rétegek közé tégy dropout rétegeket, melyek 20%-os valószínűséggel nulláznak ki egy-egy elemet!\n",
        "- **H/3**: Háromrétegű háló, a neuronok száma rendre 50, 30. Aktivációs függvényként használj sorban tanh-t, majd ReLU-t!\n",
        "\n",
        "Minden esetben csak teljesen összekötött (dense) rétegeket, valamint dropout rétegeket kell használnod. Az aktivációs függvényeket a telejesen összekötött rétegek `activation` paramétereként add meg (azaz most ne használj külön Acitvation rétegeket). A rétegek számába beleértendő a kimenetre képző, utolsó réteg is, melynek méretét a címke mérete határozza meg. Alkalmazd a tanult aktivációs függvényt az utolsó rétegen, függően a feladat típusától!\n",
        "A modellt fordítsd le a `compile()` függvény segítségével: a költségfüggvény legyen a szokásos, multi-class klasszifikációhoz használatos (categorical) crossentropy, optimizer algoritmusként pedig alkalmazd az SGD algoritmust megfelelő tanulási rátával! \n",
        "A klasszifikációs neuronhálót tartalmazó keras.models.Sequential() típusú változót nevezd el `cl_model`-nek. "
      ]
    },
    {
      "cell_type": "code",
      "metadata": {
        "id": "30Iwot3xxVXI",
        "colab": {
          "base_uri": "https://localhost:8080/"
        },
        "outputId": "0b04fef1-4df3-48cf-8dda-5c95dc447c1b"
      },
      "source": [
        "# implement your solution BELOW\n",
        "cl_model = keras.models.Sequential()\n",
        "cl_model.add(keras.layers.Dense(20, activation=\"relu\", input_dim=x_train.shape[1]))\n",
        "cl_model.add(keras.layers.Dropout(0.2))\n",
        "cl_model.add(keras.layers.Dense(20, activation=\"relu\"))\n",
        "cl_model.add(keras.layers.Dropout(0.2))\n",
        "cl_model.add(keras.layers.Dense(10, activation=\"relu\"))\n",
        "cl_model.add(keras.layers.Dropout(0.2))\n",
        "cl_model.add(keras.layers.Dense(3, activation=\"softmax\"))\n",
        "\n",
        "cl_model.compile(optimizer=keras.optimizers.SGD(learning_rate = 0.1), loss=\"categorical_crossentropy\", metrics=['accuracy'])\n",
        "\n",
        "# implement your solution ABOVE\n",
        "\n",
        "tester.test('cl_model_architecture', cl_model)"
      ],
      "execution_count": null,
      "outputs": [
        {
          "output_type": "stream",
          "text": [
            "Tester: Classification model architecture OK\n"
          ],
          "name": "stdout"
        }
      ]
    },
    {
      "cell_type": "markdown",
      "metadata": {
        "id": "7uowunGxa2Mq"
      },
      "source": [
        "## **I**: A háló betanítása (multi-class) klasszifikációs feladatra\n",
        "\n",
        "Tanítsd be a neuronhálót a tanítóhalmazon! Használj early stopping-ot a validációs halmazzal! A tanulási rátát, epoch-ok maximális számát, a batch méretet, az early stopping `patience` paraméterét szabadon átállíthatod. Próbálgathatsz különböző kombinációkat, hogy jobb eredményt érj el.\n",
        "\n",
        "- Rajzold ki, hogyan alakult a tanulási és validációs költség a betanítás során! Ehhez használhatod a `matplotlib` könyvtárat, példát találsz a 8. előadás notebookjában. \n",
        "- A crossentropy költség mellett, a helyesen klasszifikált mintaelemek arányának (accuracy) tanító- és validációs halmazon történő alakulását is rajzold ki egy másik grafikonon! A grafikonok y tengelyének megjelenített értékhatárait úgy állítsd be, hogy mindegyik idősor látható legyen és könnyen ki lehessen venni a költségek alakulását a tanítás vége felé is!\n",
        "- Számold ki a betanított modell crossentropy költségét és az accuracy-t a teszthalamzon, majd add értékül ezeket az értékeket a `test_ce` és `test_acc` változóknak!\n",
        "- Számold ki az F1-score-t a teszthalmazon, majd add értékül ezt az értéket a `test_f1` változónak! Az F1-score a precision és recall értékek harmonikus közepe, azaz az alábbi módon számolható:\n",
        "\n",
        "$$ F_1 = 2 \\cdot \\frac{\\textrm{precision} \\cdot \\textrm{recall}}{\\textrm{precision} + \\textrm{recall}} $$\n",
        "\n",
        "Az F1-score tökéletes klasszifikáció esetén 1, tökéletesen hibás klasszifikáció esetén pedig 0, hasonlóan az accuracy metrikához. Az F1-score előnye, hogy robusztus, nehéz \"megtéveszteni\", ha magas értéket ad, a modell nagy valószínűséggel tényleg jól működik.\n",
        "Az F1-score definíciójában a precision és recall függvények azonosak az 1. házi feladat B) részében megvalósított multi-class feladatokat is kezelő függvényeivel. Természetesen az input formátumára figyelni kell (hogy valószínűségekként, vagy kategorikus címkékként adjuk be a becsléseket és igazi címkéket)."
      ]
    },
    {
      "cell_type": "code",
      "metadata": {
        "id": "LHWZ8AN2oGoP",
        "colab": {
          "base_uri": "https://localhost:8080/",
          "height": 1000
        },
        "outputId": "b2582ef3-f7c6-4223-fbd3-60e2d4d30d55"
      },
      "source": [
        "# implement your solution BELOW\n",
        "from sklearn.metrics import recall_score\n",
        "from sklearn.metrics import precision_score\n",
        "\n",
        "earlystopping_callback = keras.callbacks.EarlyStopping(monitor=\"val_loss\", patience=5 )\n",
        "\n",
        "history = cl_model.fit(x_train, y_onehot_train, validation_data=(x_val, y_onehot_val),\n",
        "              batch_size=64, epochs=400, verbose=1, callbacks=[earlystopping_callback])\n",
        "\n",
        "tr_losses = history.history[\"loss\"]\n",
        "val_losses = history.history[\"val_loss\"]\n",
        "tr_acc = history.history[\"accuracy\"]\n",
        "val_acc = history.history[\"val_accuracy\"]\n",
        "\n",
        "plt.plot(tr_losses, label=\"J_train\")\n",
        "plt.plot(val_losses, label=\"J_val\")\n",
        "plt.ylim((0,1.5))\n",
        "plt.xlabel(\"Number of epochs\")\n",
        "plt.ylabel(\"Cost (J)\")\n",
        "plt.legend()\n",
        "plt.show();\n",
        "\n",
        "print(\"Final training loss: \", tr_losses[-1])\n",
        "print(\"Final validation loss: \", val_losses[-1])\n",
        "\n",
        "plt.plot(tr_acc, label=\"Train_accuracy\")\n",
        "plt.plot(val_acc, label=\"Val_accuracy\")\n",
        "plt.ylim((0,1))\n",
        "plt.xlabel(\"Number of epochs\")\n",
        "plt.ylabel(\"Measure\")\n",
        "plt.legend()\n",
        "plt.show();\n",
        "\n",
        "test_ce, test_acc = cl_model.evaluate(x_test,y_onehot_test)\n",
        "print(\"Final test loss: \", test_ce)\n",
        "print(\"Final test accuracy: \", test_acc)\n",
        "\n",
        "y_onehot_test_predicted = cl_model.predict(x_test)\n",
        "\n",
        "test_pre = precision_score(np.argmax(y_onehot_test, axis=1),np.argmax(y_onehot_test_predicted, axis=1), average='macro')\n",
        "test_rec = recall_score(np.argmax(y_onehot_test, axis=1),np.argmax(y_onehot_test_predicted, axis=1), average='macro')\n",
        "\n",
        "test_f1 = 2*test_pre*test_rec/(test_pre+test_rec)\n",
        "print(\"Final test f1-socre: \", test_f1)\n",
        "# implement your solution ABOVE\n",
        "\n",
        "tester.test('cl_model_learning', test_ce, test_acc, test_f1)\n",
        "tester.print_all_tests_successful()"
      ],
      "execution_count": null,
      "outputs": [
        {
          "output_type": "stream",
          "text": [
            "Epoch 1/400\n",
            "4/4 [==============================] - 1s 78ms/step - loss: 1.1227 - accuracy: 0.3557 - val_loss: 1.0657 - val_accuracy: 0.4557\n",
            "Epoch 2/400\n",
            "4/4 [==============================] - 0s 16ms/step - loss: 1.0704 - accuracy: 0.4337 - val_loss: 1.0658 - val_accuracy: 0.4304\n",
            "Epoch 3/400\n",
            "4/4 [==============================] - 0s 17ms/step - loss: 1.0863 - accuracy: 0.4308 - val_loss: 1.0666 - val_accuracy: 0.4304\n",
            "Epoch 4/400\n",
            "4/4 [==============================] - 0s 17ms/step - loss: 1.0392 - accuracy: 0.4444 - val_loss: 1.0648 - val_accuracy: 0.4177\n",
            "Epoch 5/400\n",
            "4/4 [==============================] - 0s 17ms/step - loss: 1.0825 - accuracy: 0.4288 - val_loss: 1.0657 - val_accuracy: 0.4051\n",
            "Epoch 6/400\n",
            "4/4 [==============================] - 0s 17ms/step - loss: 1.0805 - accuracy: 0.4081 - val_loss: 1.0655 - val_accuracy: 0.3924\n",
            "Epoch 7/400\n",
            "4/4 [==============================] - 0s 18ms/step - loss: 1.0763 - accuracy: 0.4375 - val_loss: 1.0652 - val_accuracy: 0.4177\n",
            "Epoch 8/400\n",
            "4/4 [==============================] - 0s 17ms/step - loss: 1.0945 - accuracy: 0.3983 - val_loss: 1.0644 - val_accuracy: 0.4177\n",
            "Epoch 9/400\n",
            "4/4 [==============================] - 0s 16ms/step - loss: 1.0725 - accuracy: 0.4282 - val_loss: 1.0651 - val_accuracy: 0.4177\n",
            "Epoch 10/400\n",
            "4/4 [==============================] - 0s 17ms/step - loss: 1.0486 - accuracy: 0.4490 - val_loss: 1.0657 - val_accuracy: 0.4051\n",
            "Epoch 11/400\n",
            "4/4 [==============================] - 0s 18ms/step - loss: 1.0478 - accuracy: 0.4400 - val_loss: 1.0632 - val_accuracy: 0.4177\n",
            "Epoch 12/400\n",
            "4/4 [==============================] - 0s 19ms/step - loss: 1.0404 - accuracy: 0.4449 - val_loss: 1.0639 - val_accuracy: 0.4051\n",
            "Epoch 13/400\n",
            "4/4 [==============================] - 0s 18ms/step - loss: 1.0588 - accuracy: 0.4427 - val_loss: 1.0610 - val_accuracy: 0.4304\n",
            "Epoch 14/400\n",
            "4/4 [==============================] - 0s 16ms/step - loss: 1.0502 - accuracy: 0.4639 - val_loss: 1.0607 - val_accuracy: 0.4304\n",
            "Epoch 15/400\n",
            "4/4 [==============================] - 0s 17ms/step - loss: 1.0588 - accuracy: 0.4457 - val_loss: 1.0596 - val_accuracy: 0.4177\n",
            "Epoch 16/400\n",
            "4/4 [==============================] - 0s 17ms/step - loss: 1.0500 - accuracy: 0.4435 - val_loss: 1.0572 - val_accuracy: 0.4177\n",
            "Epoch 17/400\n",
            "4/4 [==============================] - 0s 18ms/step - loss: 1.0198 - accuracy: 0.4867 - val_loss: 1.0559 - val_accuracy: 0.4177\n",
            "Epoch 18/400\n",
            "4/4 [==============================] - 0s 20ms/step - loss: 1.0162 - accuracy: 0.5124 - val_loss: 1.0501 - val_accuracy: 0.4177\n",
            "Epoch 19/400\n",
            "4/4 [==============================] - 0s 16ms/step - loss: 1.0467 - accuracy: 0.4440 - val_loss: 1.0490 - val_accuracy: 0.4430\n",
            "Epoch 20/400\n",
            "4/4 [==============================] - 0s 17ms/step - loss: 1.0229 - accuracy: 0.4332 - val_loss: 1.0432 - val_accuracy: 0.4304\n",
            "Epoch 21/400\n",
            "4/4 [==============================] - 0s 16ms/step - loss: 1.0070 - accuracy: 0.4821 - val_loss: 1.0363 - val_accuracy: 0.4304\n",
            "Epoch 22/400\n",
            "4/4 [==============================] - 0s 18ms/step - loss: 0.9995 - accuracy: 0.4869 - val_loss: 1.0296 - val_accuracy: 0.4684\n",
            "Epoch 23/400\n",
            "4/4 [==============================] - 0s 16ms/step - loss: 1.0034 - accuracy: 0.4986 - val_loss: 1.0227 - val_accuracy: 0.4810\n",
            "Epoch 24/400\n",
            "4/4 [==============================] - 0s 16ms/step - loss: 0.9808 - accuracy: 0.5230 - val_loss: 1.0155 - val_accuracy: 0.5063\n",
            "Epoch 25/400\n",
            "4/4 [==============================] - 0s 17ms/step - loss: 0.9870 - accuracy: 0.5171 - val_loss: 1.0063 - val_accuracy: 0.4684\n",
            "Epoch 26/400\n",
            "4/4 [==============================] - 0s 18ms/step - loss: 0.9969 - accuracy: 0.4781 - val_loss: 1.0047 - val_accuracy: 0.4810\n",
            "Epoch 27/400\n",
            "4/4 [==============================] - 0s 22ms/step - loss: 0.9884 - accuracy: 0.4603 - val_loss: 1.0084 - val_accuracy: 0.4051\n",
            "Epoch 28/400\n",
            "4/4 [==============================] - 0s 20ms/step - loss: 1.0120 - accuracy: 0.4311 - val_loss: 0.9965 - val_accuracy: 0.4810\n",
            "Epoch 29/400\n",
            "4/4 [==============================] - 0s 17ms/step - loss: 0.9659 - accuracy: 0.5175 - val_loss: 0.9881 - val_accuracy: 0.4810\n",
            "Epoch 30/400\n",
            "4/4 [==============================] - 0s 17ms/step - loss: 0.9708 - accuracy: 0.4423 - val_loss: 0.9806 - val_accuracy: 0.5063\n",
            "Epoch 31/400\n",
            "4/4 [==============================] - 0s 17ms/step - loss: 0.9421 - accuracy: 0.5277 - val_loss: 0.9726 - val_accuracy: 0.4810\n",
            "Epoch 32/400\n",
            "4/4 [==============================] - 0s 17ms/step - loss: 0.9729 - accuracy: 0.5066 - val_loss: 0.9754 - val_accuracy: 0.5316\n",
            "Epoch 33/400\n",
            "4/4 [==============================] - 0s 17ms/step - loss: 0.9371 - accuracy: 0.5080 - val_loss: 0.9579 - val_accuracy: 0.5190\n",
            "Epoch 34/400\n",
            "4/4 [==============================] - 0s 17ms/step - loss: 0.9076 - accuracy: 0.5328 - val_loss: 0.9515 - val_accuracy: 0.4937\n",
            "Epoch 35/400\n",
            "4/4 [==============================] - 0s 20ms/step - loss: 0.9307 - accuracy: 0.5105 - val_loss: 0.9433 - val_accuracy: 0.4810\n",
            "Epoch 36/400\n",
            "4/4 [==============================] - 0s 17ms/step - loss: 0.9359 - accuracy: 0.5243 - val_loss: 0.9453 - val_accuracy: 0.5316\n",
            "Epoch 37/400\n",
            "4/4 [==============================] - 0s 17ms/step - loss: 0.9244 - accuracy: 0.4658 - val_loss: 0.9459 - val_accuracy: 0.5316\n",
            "Epoch 38/400\n",
            "4/4 [==============================] - 0s 19ms/step - loss: 0.9562 - accuracy: 0.4651 - val_loss: 0.9146 - val_accuracy: 0.5316\n",
            "Epoch 39/400\n",
            "4/4 [==============================] - 0s 18ms/step - loss: 0.9059 - accuracy: 0.5543 - val_loss: 0.9127 - val_accuracy: 0.4684\n",
            "Epoch 40/400\n",
            "4/4 [==============================] - 0s 17ms/step - loss: 0.9205 - accuracy: 0.5146 - val_loss: 0.9051 - val_accuracy: 0.5316\n",
            "Epoch 41/400\n",
            "4/4 [==============================] - 0s 16ms/step - loss: 0.8798 - accuracy: 0.5128 - val_loss: 0.8874 - val_accuracy: 0.5443\n",
            "Epoch 42/400\n",
            "4/4 [==============================] - 0s 19ms/step - loss: 0.8941 - accuracy: 0.4997 - val_loss: 0.8986 - val_accuracy: 0.5443\n",
            "Epoch 43/400\n",
            "4/4 [==============================] - 0s 17ms/step - loss: 0.8814 - accuracy: 0.5395 - val_loss: 0.8618 - val_accuracy: 0.5443\n",
            "Epoch 44/400\n",
            "4/4 [==============================] - 0s 17ms/step - loss: 0.8261 - accuracy: 0.5585 - val_loss: 0.8650 - val_accuracy: 0.4684\n",
            "Epoch 45/400\n",
            "4/4 [==============================] - 0s 17ms/step - loss: 0.9126 - accuracy: 0.4999 - val_loss: 0.8442 - val_accuracy: 0.5570\n",
            "Epoch 46/400\n",
            "4/4 [==============================] - 0s 20ms/step - loss: 0.8354 - accuracy: 0.5755 - val_loss: 0.8383 - val_accuracy: 0.5823\n",
            "Epoch 47/400\n",
            "4/4 [==============================] - 0s 17ms/step - loss: 0.8668 - accuracy: 0.5269 - val_loss: 0.8400 - val_accuracy: 0.5063\n",
            "Epoch 48/400\n",
            "4/4 [==============================] - 0s 19ms/step - loss: 0.8286 - accuracy: 0.5522 - val_loss: 0.8243 - val_accuracy: 0.5443\n",
            "Epoch 49/400\n",
            "4/4 [==============================] - 0s 21ms/step - loss: 0.8143 - accuracy: 0.5659 - val_loss: 0.8145 - val_accuracy: 0.6076\n",
            "Epoch 50/400\n",
            "4/4 [==============================] - 0s 18ms/step - loss: 0.8001 - accuracy: 0.6149 - val_loss: 0.7964 - val_accuracy: 0.6076\n",
            "Epoch 51/400\n",
            "4/4 [==============================] - 0s 22ms/step - loss: 0.7940 - accuracy: 0.6088 - val_loss: 0.7849 - val_accuracy: 0.6329\n",
            "Epoch 52/400\n",
            "4/4 [==============================] - 0s 19ms/step - loss: 0.8823 - accuracy: 0.5812 - val_loss: 0.7792 - val_accuracy: 0.6456\n",
            "Epoch 53/400\n",
            "4/4 [==============================] - 0s 18ms/step - loss: 0.7925 - accuracy: 0.6282 - val_loss: 0.8183 - val_accuracy: 0.5190\n",
            "Epoch 54/400\n",
            "4/4 [==============================] - 0s 20ms/step - loss: 0.7917 - accuracy: 0.6010 - val_loss: 0.7847 - val_accuracy: 0.6835\n",
            "Epoch 55/400\n",
            "4/4 [==============================] - 0s 18ms/step - loss: 0.8661 - accuracy: 0.6037 - val_loss: 0.7538 - val_accuracy: 0.6582\n",
            "Epoch 56/400\n",
            "4/4 [==============================] - 0s 17ms/step - loss: 0.8411 - accuracy: 0.5746 - val_loss: 0.7909 - val_accuracy: 0.6582\n",
            "Epoch 57/400\n",
            "4/4 [==============================] - 0s 17ms/step - loss: 0.8160 - accuracy: 0.5207 - val_loss: 0.7346 - val_accuracy: 0.6709\n",
            "Epoch 58/400\n",
            "4/4 [==============================] - 0s 17ms/step - loss: 0.7601 - accuracy: 0.6521 - val_loss: 0.7324 - val_accuracy: 0.7089\n",
            "Epoch 59/400\n",
            "4/4 [==============================] - 0s 17ms/step - loss: 0.7877 - accuracy: 0.5655 - val_loss: 0.7200 - val_accuracy: 0.6709\n",
            "Epoch 60/400\n",
            "4/4 [==============================] - 0s 20ms/step - loss: 0.7986 - accuracy: 0.6239 - val_loss: 0.7168 - val_accuracy: 0.6582\n",
            "Epoch 61/400\n",
            "4/4 [==============================] - 0s 17ms/step - loss: 0.7036 - accuracy: 0.6697 - val_loss: 0.7016 - val_accuracy: 0.6835\n",
            "Epoch 62/400\n",
            "4/4 [==============================] - 0s 18ms/step - loss: 0.7013 - accuracy: 0.6717 - val_loss: 0.7110 - val_accuracy: 0.6709\n",
            "Epoch 63/400\n",
            "4/4 [==============================] - 0s 17ms/step - loss: 0.7720 - accuracy: 0.6448 - val_loss: 0.7138 - val_accuracy: 0.6582\n",
            "Epoch 64/400\n",
            "4/4 [==============================] - 0s 17ms/step - loss: 0.7002 - accuracy: 0.6741 - val_loss: 0.6649 - val_accuracy: 0.7342\n",
            "Epoch 65/400\n",
            "4/4 [==============================] - 0s 20ms/step - loss: 0.7279 - accuracy: 0.6119 - val_loss: 0.8361 - val_accuracy: 0.5316\n",
            "Epoch 66/400\n",
            "4/4 [==============================] - 0s 19ms/step - loss: 0.7972 - accuracy: 0.5825 - val_loss: 0.7090 - val_accuracy: 0.6582\n",
            "Epoch 67/400\n",
            "4/4 [==============================] - 0s 19ms/step - loss: 0.7283 - accuracy: 0.6689 - val_loss: 0.6623 - val_accuracy: 0.6962\n",
            "Epoch 68/400\n",
            "4/4 [==============================] - 0s 17ms/step - loss: 0.6922 - accuracy: 0.6881 - val_loss: 0.6677 - val_accuracy: 0.7215\n",
            "Epoch 69/400\n",
            "4/4 [==============================] - 0s 18ms/step - loss: 0.6795 - accuracy: 0.6603 - val_loss: 0.6869 - val_accuracy: 0.6962\n",
            "Epoch 70/400\n",
            "4/4 [==============================] - 0s 21ms/step - loss: 0.7280 - accuracy: 0.6641 - val_loss: 0.6991 - val_accuracy: 0.6835\n",
            "Epoch 71/400\n",
            "4/4 [==============================] - 0s 18ms/step - loss: 0.7232 - accuracy: 0.6613 - val_loss: 0.8328 - val_accuracy: 0.5443\n",
            "Epoch 72/400\n",
            "4/4 [==============================] - 0s 17ms/step - loss: 0.7300 - accuracy: 0.6676 - val_loss: 0.6363 - val_accuracy: 0.7089\n",
            "Epoch 73/400\n",
            "4/4 [==============================] - 0s 17ms/step - loss: 0.6472 - accuracy: 0.7027 - val_loss: 0.6352 - val_accuracy: 0.7342\n",
            "Epoch 74/400\n",
            "4/4 [==============================] - 0s 20ms/step - loss: 0.6634 - accuracy: 0.6994 - val_loss: 0.6161 - val_accuracy: 0.7342\n",
            "Epoch 75/400\n",
            "4/4 [==============================] - 0s 17ms/step - loss: 0.6498 - accuracy: 0.6979 - val_loss: 0.6134 - val_accuracy: 0.7342\n",
            "Epoch 76/400\n",
            "4/4 [==============================] - 0s 19ms/step - loss: 0.6884 - accuracy: 0.6862 - val_loss: 0.6063 - val_accuracy: 0.7722\n",
            "Epoch 77/400\n",
            "4/4 [==============================] - 0s 16ms/step - loss: 0.6601 - accuracy: 0.7201 - val_loss: 0.6254 - val_accuracy: 0.7342\n",
            "Epoch 78/400\n",
            "4/4 [==============================] - 0s 18ms/step - loss: 0.6622 - accuracy: 0.6932 - val_loss: 0.6723 - val_accuracy: 0.6456\n",
            "Epoch 79/400\n",
            "4/4 [==============================] - 0s 22ms/step - loss: 0.6534 - accuracy: 0.7032 - val_loss: 0.6533 - val_accuracy: 0.6582\n",
            "Epoch 80/400\n",
            "4/4 [==============================] - 0s 21ms/step - loss: 0.6625 - accuracy: 0.7128 - val_loss: 0.6850 - val_accuracy: 0.6962\n",
            "Epoch 81/400\n",
            "4/4 [==============================] - 0s 23ms/step - loss: 0.5905 - accuracy: 0.7931 - val_loss: 0.6498 - val_accuracy: 0.7089\n"
          ],
          "name": "stdout"
        },
        {
          "output_type": "display_data",
          "data": {
            "image/png": "[encoded data removed]",
            "text/plain": [
              "<Figure size 432x288 with 1 Axes>"
            ]
          },
          "metadata": {
            "tags": [],
            "needs_background": "light"
          }
        },
        {
          "output_type": "stream",
          "text": [
            "Final training loss:  0.5993022322654724\n",
            "Final validation loss:  0.6498099565505981\n"
          ],
          "name": "stdout"
        },
        {
          "output_type": "display_data",
          "data": {
            "image/png": "[encoded data removed]",
            "text/plain": [
              "<Figure size 432x288 with 1 Axes>"
            ]
          },
          "metadata": {
            "tags": [],
            "needs_background": "light"
          }
        },
        {
          "output_type": "stream",
          "text": [
            "3/3 [==============================] - 0s 4ms/step - loss: 0.6452 - accuracy: 0.7342\n",
            "Final test loss:  0.6452452540397644\n",
            "Final test accuracy:  0.7341772317886353\n",
            "WARNING:tensorflow:5 out of the last 13 calls to <function Model.make_predict_function.<locals>.predict_function at 0x7ff5adc14710> triggered tf.function retracing. Tracing is expensive and the excessive number of tracings could be due to (1) creating @tf.function repeatedly in a loop, (2) passing tensors with different shapes, (3) passing Python objects instead of tensors. For (1), please define your @tf.function outside of the loop. For (2), @tf.function has experimental_relax_shapes=True option that relaxes argument shapes that can avoid unnecessary retracing. For (3), please refer to https://www.tensorflow.org/guide/function#controlling_retracing and https://www.tensorflow.org/api_docs/python/tf/function for  more details.\n",
            "Final test f1-socre:  0.7698145939499078\n",
            "Tester: Classification model learning OK\n",
            "Tester: All tests were successful.\n"
          ],
          "name": "stdout"
        }
      ]
    }
  ]
}