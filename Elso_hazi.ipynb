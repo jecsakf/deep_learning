{
  "nbformat": 4,
  "nbformat_minor": 0,
  "metadata": {
    "colab": {
      "name": "Elso_hazi.ipynb",
      "provenance": [],
      "collapsed_sections": [
        "C0ENgnmqkwqn"
      ],
      "include_colab_link": true
    },
    "kernelspec": {
      "name": "python3",
      "display_name": "Python 3"
    }
  },
  "cells": [
    {
      "cell_type": "markdown",
      "metadata": {
        "id": "view-in-github",
        "colab_type": "text"
      },
      "source": [
        "<a href=\"https://colab.research.google.com/github/jecsakf/deep_learning/blob/main/Elso_hazi.ipynb\" target=\"_parent\"><img src=\"https://colab.research.google.com/assets/colab-badge.svg\" alt=\"Open In Colab\"/></a>"
      ]
    },
    {
      "cell_type": "markdown",
      "metadata": {
        "id": "IkN9M2r3ZCrg"
      },
      "source": [
        "# 1. házi feladat\n",
        "\n",
        "Az első házi feladat célja a Python és NumPy szoftveres ismeretek felmérése. \n",
        "\n",
        "A feladatok megoldásához nem lehet semmilyen egyéb csomagot importálni: kizárólag beépített függvények és adatszerkezetek, valamint az adott feladathoz előre importált csomagok használhatók. Minden feladat automatikus tesztekkel rendelkezik. A megoldást a feladathoz tartozó **Megoldás** felirat utáni cellába kell írni. A tesztek a **Tesztek** felirat utáni cellában találhatók az egyes feladatokhoz. Ha a teszt futtatásakor az OK felirat megjelenik, _feltehetően_ jó a megoldás, de a 2. és 3. feladatoknál egyéb feltételeket is teljesíteni kell, melyek csak manuálisan lesznek ellenőrzive beadás után."
      ]
    },
    {
      "cell_type": "markdown",
      "metadata": {
        "id": "hLA-dxK122hz"
      },
      "source": [
        "## A/1\n",
        "\n",
        "**Gradebook**\n",
        "\n",
        "A tanárok kitalálták, hogy itt az ideje egy új tanulmányi rendszer kifejlesztésének, és téged kértek meg, hogy implementálj ehhez egy napló osztályt. A napló osztály minden diákhoz eltárolja a diák kapott jegyeit egy listában. A listákat, a diákok neveit kulcsként használva, egy szótár (dict) típusú példányváltozóban tároljuk, melyet nevezzünk `grades`-nek.\n",
        "\n",
        "Az osztály neve legyen **Gradebook**. 6 publikus metódusa van:\n",
        "* **add_students(student_list)**: Eltárolja a kapott diákok nevét a naplóban, mindhez egy üres listát rendelve\n",
        "* **get_all_students()**: Visszaadja a naplóban tárolt diákok neveit betűrendben\n",
        "* **add_grade(student, grade)**: A jegyet beilleszti a kapott diákhoz tartozó listába. Ha nincs a naplóban ilyen nevű diák, *StudentMissingException*-t vált ki.\n",
        "* **get_student_grades(student)**: Visszaadja a kapott diák jegyeit tartalmazó listát. Ha nincs a naplóban ilyen nevű diák, *StudentMissingException*-t vált ki.\n",
        "* **get_number_of_students_with_low_grades()**: Visszaadja, hány diáknak vannak egyesei vagy kettesei.\n",
        "* **get_average_grade()**: Visszaadja a naplóban szereplő összes jegy átlagát."
      ]
    },
    {
      "cell_type": "markdown",
      "metadata": {
        "id": "Ym3mTDgkdzUM"
      },
      "source": [
        "### Megoldás"
      ]
    },
    {
      "cell_type": "code",
      "metadata": {
        "id": "NIY-SosPpAaG"
      },
      "source": [
        "# Your solution ->\n",
        "\n",
        "class StudentMissingException(Exception):\n",
        "  pass\n",
        "\n",
        "class Gradebook:\n",
        "  def __init__(self):\n",
        "    self.grades =  {}\n",
        "\n",
        "  def add_students(self, student_list):\n",
        "    for name in student_list:\n",
        "      self.grades[name] = []\n",
        "\n",
        "  def get_all_students(self):\n",
        "    return sorted(self.grades.keys())\n",
        "\n",
        "  def add_grade(self, student, grade):\n",
        "    if student in self.grades.keys():\n",
        "      self.grades[student].append(grade)\n",
        "    else:\n",
        "      raise StudentMissingException()\n",
        "  \n",
        "  def get_student_grades(self, student):\n",
        "    if student in self.grades.keys():\n",
        "      return self.grades[student]\n",
        "    else:\n",
        "      raise StudentMissingException()\n",
        "\n",
        "  def get_number_of_students_with_low_grades(self):\n",
        "    low_graders = [1 if 1 in value or 2 in value else 0 for value in self.grades.values()]\n",
        "    return sum(low_graders)\n",
        "\n",
        "  def get_average_grade(self):\n",
        "    if len(self.grades.values())>0:\n",
        "      sum_of_grades = sum([sum(value) for value in self.grades.values()])\n",
        "      len_of_sums = sum([len(value) for value in self.grades.values()])\n",
        "      return sum_of_grades / len_of_sums\n",
        "    else:\n",
        "      return 0"
      ],
      "execution_count": 1,
      "outputs": []
    },
    {
      "cell_type": "markdown",
      "metadata": {
        "id": "Vz6iAO-Qd12r"
      },
      "source": [
        "### Tesztek"
      ]
    },
    {
      "cell_type": "code",
      "metadata": {
        "id": "ToTzBynnRQSh",
        "colab": {
          "base_uri": "https://localhost:8080/"
        },
        "outputId": "60880268-ec15-43f1-c765-49e10b1886e7"
      },
      "source": [
        "import unittest\n",
        "\n",
        "class TestGradebook1(unittest.TestCase):\n",
        "    def test_add_students(self):\n",
        "        gb = Gradebook()\n",
        "        self.assertEqual(gb.grades, {})\n",
        "        gb.add_students([\"Peti\", \"Dóri\"])\n",
        "        self.assertTrue(\"Peti\" in gb.grades)\n",
        "        self.assertTrue(\"Dóri\" in gb.grades)\n",
        "        self.assertEqual(2, len(gb.grades))\n",
        "        gb.add_students([\"Klári\"])\n",
        "        self.assertEqual(3, len(gb.grades))\n",
        "\n",
        "\n",
        "    def test_get_all_students(self):\n",
        "        gb = Gradebook()\n",
        "        self.assertEqual(gb.get_all_students(), [])\n",
        "        \n",
        "        gb.add_students([\"Peti\"])\n",
        "        students = gb.get_all_students()\n",
        "        self.assertEqual(students, [\"Peti\"])\n",
        "        \n",
        "        gb.add_students([\"Dóri\", \"Dénes\"])\n",
        "        students = gb.get_all_students()\n",
        "        self.assertEqual(students[0], \"Dénes\")\n",
        "        self.assertEqual(students[1], \"Dóri\")\n",
        "        self.assertEqual(students[2], \"Peti\")\n",
        "        self.assertEqual(len(students), 3)\n",
        "\n",
        "\n",
        "    def test_add_grade(self):\n",
        "        gb = Gradebook()\n",
        "        self.assertRaises(StudentMissingException, gb.add_grade, \"Feri\", 3)\n",
        "\n",
        "        gb.add_students([\"Dóri\", \"Dénes\"])\n",
        "        gb.add_grade(\"Dóri\", 4)\n",
        "        self.assertEqual(gb.grades[\"Dóri\"], [4])\n",
        "        \n",
        "        gb.add_grade(\"Dóri\", 5)\n",
        "        gb.add_grade(\"Dóri\", 4)\n",
        "        doris_grades = gb.grades[\"Dóri\"]\n",
        "        self.assertEqual(len(doris_grades), 3)\n",
        "\n",
        "        gb.add_grade(\"Dénes\", 3)\n",
        "        self.assertEqual(len(gb.grades[\"Dóri\"]), 3)\n",
        "        self.assertEqual(gb.grades[\"Dénes\"], [3])\n",
        "\n",
        "\n",
        "    def test_get_student_grades(self):\n",
        "        gb = Gradebook()\n",
        "        self.assertRaises(StudentMissingException, gb.get_student_grades, \"Feri\")\n",
        "        \n",
        "        gb.add_students([\"Norbi\", \"Nóra\"])\n",
        "        gb.add_grade(\"Nóra\", 4)\n",
        "        self.assertEqual(gb.get_student_grades(\"Nóra\"), [4])\n",
        "        gb.add_grade(\"Nóra\", 2)\n",
        "        gb.add_grade(\"Nóra\", 5)\n",
        "\n",
        "        noras_grades = gb.get_student_grades(\"Nóra\")\n",
        "        self.assertEqual(len(noras_grades), 3)\n",
        "        self.assertTrue(all([x in noras_grades for x in [2,4,5]]))\n",
        "\n",
        "\n",
        "    def test_get_student_grades(self):\n",
        "        gb = Gradebook()\n",
        "        self.assertRaises(StudentMissingException, gb.get_student_grades, \"Feri\")\n",
        "        \n",
        "        gb.add_students([\"Norbi\", \"Nóra\"])\n",
        "        gb.add_grade(\"Nóra\", 4)\n",
        "        self.assertEqual(gb.get_student_grades(\"Nóra\"), [4])\n",
        "        gb.add_grade(\"Nóra\", 2)\n",
        "        gb.add_grade(\"Nóra\", 5)\n",
        "\n",
        "        noras_grades = gb.get_student_grades(\"Nóra\")\n",
        "        self.assertEqual(len(noras_grades), 3)\n",
        "        self.assertTrue(all([x in noras_grades for x in [2,4,5]]))\n",
        "\n",
        "\n",
        "    def test_get_number_of_students_with_low_grades(self):\n",
        "        gb = Gradebook()\n",
        "        self.assertEqual(gb.get_number_of_students_with_low_grades(), 0)\n",
        "\n",
        "        gb.add_students([\"Norbi\", \"Nóra\"])\n",
        "        gb.add_grade(\"Nóra\", 4)\n",
        "        gb.add_grade(\"Nóra\", 3)\n",
        "        gb.add_grade(\"Norbi\", 2)\n",
        "        self.assertEqual(gb.get_number_of_students_with_low_grades(), 1)\n",
        "\n",
        "        gb.add_grade(\"Nóra\", 1)\n",
        "        gb.add_grade(\"Norbi\", 5)\n",
        "        self.assertEqual(gb.get_number_of_students_with_low_grades(), 2)\n",
        "\n",
        "\n",
        "    def test_get_average_grade(self):\n",
        "        gb = Gradebook()\n",
        "        self.assertEqual(gb.get_average_grade(), 0)\n",
        "        \n",
        "        gb.add_students([\"Norbi\", \"Nóra\"])\n",
        "        gb.add_grade(\"Nóra\", 4)\n",
        "        gb.add_grade(\"Nóra\", 5)\n",
        "        self.assertEqual(gb.get_average_grade(), 4.5)\n",
        "\n",
        "        gb.add_grade(\"Norbi\", 5)\n",
        "        gb.add_grade(\"Norbi\", 2)\n",
        "        self.assertEqual(gb.get_average_grade(), 4)\n",
        "    \n",
        "def suite():\n",
        "    suite = unittest.TestSuite()\n",
        "    testfuns = [\"test_add_students\", \"test_get_all_students\", \"test_add_grade\",\n",
        "                \"test_get_student_grades\", \"test_get_number_of_students_with_low_grades\",\n",
        "                \"test_get_average_grade\"]\n",
        "    [suite.addTest(TestGradebook1(fun)) for fun in testfuns]\n",
        "    return suite\n",
        "\n",
        "runner = unittest.TextTestRunner(verbosity=2)\n",
        "runner.run(suite())"
      ],
      "execution_count": null,
      "outputs": [
        {
          "output_type": "stream",
          "text": [
            "test_add_students (__main__.TestGradebook1) ... ok\n",
            "test_get_all_students (__main__.TestGradebook1) ... ok\n",
            "test_add_grade (__main__.TestGradebook1) ... ok\n",
            "test_get_student_grades (__main__.TestGradebook1) ... ok\n",
            "test_get_number_of_students_with_low_grades (__main__.TestGradebook1) ... ok\n",
            "test_get_average_grade (__main__.TestGradebook1) ... ok\n",
            "\n",
            "----------------------------------------------------------------------\n",
            "Ran 6 tests in 0.011s\n",
            "\n",
            "OK\n"
          ],
          "name": "stderr"
        },
        {
          "output_type": "execute_result",
          "data": {
            "text/plain": [
              "<unittest.runner.TextTestResult run=6 errors=0 failures=0>"
            ]
          },
          "metadata": {
            "tags": []
          },
          "execution_count": 36
        }
      ]
    },
    {
      "cell_type": "markdown",
      "metadata": {
        "id": "3Y9Va15uVdyZ"
      },
      "source": [
        "## B/1\n",
        "\n",
        "**Precision**\n",
        "\n",
        "Multiclass klasszifikáció esetén a mintaelemeink címkéjét k kategória egyikébe becsüljük (például kutya, macska, papagáj, stb.). Ha a becsléshez neuronhálót használunk, tipikusan mintaelemenként egy-egy k elemű, valószínűségeket tartalmazó vektort kapunk, melyek a mintaelem egyes kategóriákba tartozásának valószínűségét reprezentálják. Ha szeretnénk ezekből a vektorokból megmondani, hogy egy-egy mintaelem melyik kategóriába tartozik a legnagyobb valószínűség szerint, akkor elég megmondani minden egyes vektorban a maximális elem indexét. Így megkapjuk a becsült kategóriákat.\n",
        "\n",
        "A precision azt adja meg, hogy az adott kategóriába becsült mintaelemek milyen arányban tartoznak valóban ehhez a kategóriához. Azaz:\n",
        "\n",
        "$$ Precision = \\dfrac{VP}{VP+FP} $$\n",
        "\n",
        "ahol VP a valós pozitívok (azaz ahol az adott kategóriát helyesen becsültük) száma, FP pedig a fals pozitívok száma (azaz ahol az adott kategóriát helytelenül becsültük). A nevező tehát egyenlő azzal, hogy az adott kategoriát hányszor becsültük.\n",
        "\n",
        "Multiclass esetben minden osztályra külön számoljuk, és ezeknek vesszük az átlagát.\n",
        "\n",
        "A feladat, hogy implementáld a `precision` függvényt, ami két paramétert kap:\n",
        "*   `y_pred` tartalmazza becsült valószínűségeket (ez egy (m, k) alakú tömb, ahol  m  a mintaelemek és  k  a kategóriák száma) \n",
        "*   `y_true` tartalmazza az igazi kategóriacímkéket (ez egy (m,) alakú tömb)\n",
        "\n",
        "A függvény egy számot ad vissza, a kategóriákra a precision értékek átlagát.\n",
        "\n",
        "**Kikötés:**  Az implementációt vektoros módon, NumPy-ban, ciklusok és egyéb, annak megfelelő Python konstrukciók használata nélkül kell elkészíteni. További részletek a notebook végén.\n"
      ]
    },
    {
      "cell_type": "markdown",
      "metadata": {
        "id": "jF0ZxXboelmH"
      },
      "source": [
        "### Megoldás"
      ]
    },
    {
      "cell_type": "code",
      "metadata": {
        "id": "A8r_68tiAoi4"
      },
      "source": [
        "import numpy as np\n",
        "\n",
        "# Your solution ->\n",
        "def precision(y_pred, y_true):\n",
        "  a = y_pred.reshape((len(y_true),-1))\n",
        "  mask = np.max(a, axis=1) == a[np.arange(len(y_true)),y_true]\n",
        "  uniques, counts = np.unique(y_true, return_counts=True,  axis=0)\n",
        "  idxs_of_categories = np.where(uniques.reshape((-1,1)) == y_true, True, False)\n",
        "  \n",
        "  vps = np.sum(np.where((idxs_of_categories == mask) & (idxs_of_categories == True), 1, 0), axis=1)\n",
        "  return np.mean(vps/counts)\n",
        "  "
      ],
      "execution_count": null,
      "outputs": []
    },
    {
      "cell_type": "markdown",
      "metadata": {
        "id": "krOCmkzUengK"
      },
      "source": [
        "### Tesztek"
      ]
    },
    {
      "cell_type": "code",
      "metadata": {
        "id": "G-ITMUz8WmX9",
        "colab": {
          "base_uri": "https://localhost:8080/"
        },
        "outputId": "eebe81c2-7e2a-4388-8c2b-718727c0003e"
      },
      "source": [
        "import unittest\n",
        "\n",
        "class TestPrecision(unittest.TestCase):\n",
        "    def test_one_class(self):\n",
        "        one_class_preds = np.array([[1.], [1.], [1.]])\n",
        "        one_class_labels = np.array([0,0,0])\n",
        "        self.assertEqual(precision(one_class_preds, one_class_labels), 1.0)\n",
        "\n",
        "    def test_two_classes(self):\n",
        "        two_class_preds = np.array([[0.4, 0.6], [0.8, 0.2], [0.55, 0.45], [0.1, 0.9]])\n",
        "        two_class_labels = np.array([0,0,1,1])\n",
        "        self.assertEqual(precision(two_class_preds, two_class_labels), 0.5)\n",
        "\n",
        "    def test_three_classes(self):\n",
        "        three_class_preds = np.array([[0.4, 0.3, 0.3], [0.1, 0.5, 0.4], \n",
        "                                     [0.3, 0.2, 0.5], [0.4, 0.25, 0.35]])\n",
        "        three_class_labels = np.array([0, 1, 2, 2])\n",
        "        self.assertEqual(precision(three_class_preds, three_class_labels), 5/6)\n",
        "\n",
        "def suite():\n",
        "    suite = unittest.TestSuite()\n",
        "    testfuns = [\"test_one_class\", \"test_two_classes\", \"test_three_classes\"]\n",
        "    [suite.addTest(TestPrecision(fun)) for fun in testfuns]\n",
        "    return suite\n",
        "\n",
        "runner = unittest.TextTestRunner(verbosity=2)\n",
        "runner.run(suite())"
      ],
      "execution_count": null,
      "outputs": [
        {
          "output_type": "stream",
          "text": [
            "test_one_class (__main__.TestPrecision) ... ok\n",
            "test_two_classes (__main__.TestPrecision) ... ok\n",
            "test_three_classes (__main__.TestPrecision) ... ok\n",
            "\n",
            "----------------------------------------------------------------------\n",
            "Ran 3 tests in 0.007s\n",
            "\n",
            "OK\n"
          ],
          "name": "stderr"
        },
        {
          "output_type": "execute_result",
          "data": {
            "text/plain": [
              "<unittest.runner.TextTestResult run=3 errors=0 failures=0>"
            ]
          },
          "metadata": {
            "tags": []
          },
          "execution_count": 44
        }
      ]
    },
    {
      "cell_type": "markdown",
      "metadata": {
        "id": "EgpQS_o5staA"
      },
      "source": [
        "## C/1\n",
        "\n",
        "**Sudoku**\n",
        "\n",
        "Készíts egy **SudokuBoard** nevű osztályt, ami a Sudoku táblát reprezentálja! A Sudoku egy 9x9-es tábla, ami 3x3-as blokkokra van osztva a sorok és oszlopok mentén. 1-től 9-ig kell elhelyeznünk a számokat úgy, hogy minden sorban, oszlopban, és blokkban a számok egyszer szerepeljenek.\n",
        "\n",
        "Emellett az osztály a következő tagfüggvényekkel kell, hogy rendelkezzen:\n",
        "\n",
        "*   `is_valid_placing(num, pos)`: `num` egy szám 1 és 9 között, `pos` pedig egy tuple amely két 0 és 8 közötti egész számot tartalmaz, és `pos` első eleme a sorindex, második eleme pedig az oszlopindex. A függvény logikai értéket ad vissza, amivel megadja, hogy az adott pozícióra elhelyezhető-e az adott szám.\n",
        "*   `insert(num, pos)`: a paraméterek megegyeznek az előző függvényével. A függvény elhelyezi a megadott számot az adott pozícióra, ha az elhelyezhető oda, és ekkor *True*-t ad vissza. Ha nem helyezhető el oda, *False*-ot ad vissza.\n",
        "*`get_row_with_most_numbers()`: visszaadja annak a sornak az indexét (0-tól indexelve), ahol a legtöbb szám van elhelyezve. Ha több ilyen sor van, elég az egyiket visszaadni közülük.\n",
        "*`get_possible_cols(num)`: visszaadja azon oszlopok indexét (0-tól indexelve) egy tömbben, ahova az adott szám (`num` paraméter) elhelyezhető.\n",
        "*`sum_of_missing_numbers_per_square()`: visszaad egy 3x3-as mátrixot, melynek elemei az egyes blokkok hiányzó számainak összegei.\n",
        "\n",
        "**Kikötés:**  Az implementációt vektoros módon, NumPy-ban, ciklusok és egyéb, annak megfelelő Python konstrukciók használata nélkül kell elkészíteni. További részletek a notebook végén.\n",
        "\n"
      ]
    },
    {
      "cell_type": "markdown",
      "metadata": {
        "id": "RHH65Y7Ve_cB"
      },
      "source": [
        "### Megoldás"
      ]
    },
    {
      "cell_type": "code",
      "metadata": {
        "id": "1x9hKzvxtsYZ"
      },
      "source": [
        "import numpy as np\n",
        "\n",
        "# Your solution ->\n",
        "\n",
        "class SudokuBoard:\n",
        "\n",
        "  def __init__(self):\n",
        "    self.board =  np.zeros((9,9))\n",
        "    #self.board = np.arange(81, dtype=np.int32).reshape((9,9))\n",
        "\n",
        "  def is_valid_placing(self,num,pos):\n",
        "    row, col = pos\n",
        "    rfrom, rto = 3*np.floor_divide(row,3), 3*np.floor_divide(row,3)+3\n",
        "    cfrom, cto = 3*np.floor_divide(col,3), 3*np.floor_divide(col,3)+3\n",
        "    in_cella = self.board[row,col] == 0\n",
        "    in_block = np.where(num in self.board[rfrom:rto, cfrom:cto], False, True)\n",
        "    in_row = np.where(num in self.board[row], False, True)\n",
        "    in_col = np.where(num in self.board[:,col], False, True)\n",
        "    return in_row & in_col & in_block & in_cella\n",
        "\n",
        "  def insert(self,num,pos):\n",
        "    if self.is_valid_placing(num,pos):\n",
        "      i, j = pos\n",
        "      self.board[i,j] = num\n",
        "      return True\n",
        "    else:\n",
        "      return False\n",
        "  \n",
        "  def get_row_with_most_numbers(self):\n",
        "    return np.argmax(np.count_nonzero(self.board, axis=1))\n",
        "\n",
        "  def get_possible_cols(self,num):\n",
        "    col_idxs = np.arange(9, dtype=np.int32)\n",
        "    mask = np.any(self.board == num, axis=0) == False\n",
        "    return col_idxs[mask]\n",
        "\n",
        "  def sum_of_missing_numbers_per_square(self):\n",
        "    a = self.board.reshape(3,3,9)\n",
        "    blocks_sum = np.sum((np.sum(a, axis=1).reshape(9,3)), axis=1)\n",
        "    return (45-blocks_sum).reshape(3,3)\n"
      ],
      "execution_count": null,
      "outputs": []
    },
    {
      "cell_type": "markdown",
      "metadata": {
        "id": "313yeAlqfBC2"
      },
      "source": [
        "### Tesztek"
      ]
    },
    {
      "cell_type": "code",
      "metadata": {
        "id": "Ry_X8qEloURq",
        "colab": {
          "base_uri": "https://localhost:8080/"
        },
        "outputId": "09694e9f-3bf8-41a5-9025-a137e8ae5f57"
      },
      "source": [
        "import unittest\n",
        "\n",
        "class TestSudoku(unittest.TestCase):\n",
        "    def test_is_valid_placing(self):\n",
        "        sb = SudokuBoard()\n",
        "        self.assertTrue(sb.is_valid_placing(5, (0,0)))\n",
        "        self.assertTrue(sb.is_valid_placing(5, (8,0)))\n",
        "        self.assertTrue(sb.is_valid_placing(5, (0,8)))\n",
        "        self.assertTrue(sb.is_valid_placing(5, (4,6)))\n",
        "        self.assertTrue(sb.is_valid_placing(5, (8,8)))\n",
        "\n",
        "        sb.insert(5, (3,3))\n",
        "        self.assertFalse(sb.is_valid_placing(7, (3,3)))\n",
        "        self.assertFalse(sb.is_valid_placing(5, (5,4)))\n",
        "        self.assertFalse(sb.is_valid_placing(5, (7,3)))\n",
        "        self.assertFalse(sb.is_valid_placing(5, (3,7)))\n",
        "        \n",
        "        self.assertTrue(sb.is_valid_placing(5, (2,4)))\n",
        "        self.assertTrue(sb.is_valid_placing(6, (3,4)))\n",
        "\n",
        "    def test_insert(self):\n",
        "        sb = SudokuBoard()\n",
        "        self.assertTrue(sb.insert(4, (2,7)))\n",
        "        self.assertFalse(sb.insert(4, (2,7)))\n",
        "\n",
        "    def test_get_row_with_most_numbers(self):\n",
        "        sb = SudokuBoard()\n",
        "        sb.insert(3, (5,6))\n",
        "        self.assertEqual(sb.get_row_with_most_numbers(), 5)\n",
        "        \n",
        "        to_insert = [(3, (1,0)),(6, (1,7)), (4, (2,1)),(1, (3,7))]\n",
        "        [sb.insert(*t) for t in to_insert] \n",
        "        self.assertEqual(sb.get_row_with_most_numbers(), 1)\n",
        "\n",
        "        to_insert = [(9, (2,3)), (4, (5,8)), (6, (5,1))]\n",
        "        [sb.insert(*t) for t in to_insert] \n",
        "        self.assertEqual(sb.get_row_with_most_numbers(), 5)\n",
        "\n",
        "    def test_get_possible_cols(self):\n",
        "        sb = SudokuBoard()\n",
        "        self.assertEqual(len(sb.get_possible_cols(5)), 9)\n",
        "        \n",
        "        sb.insert(5, (5,8))\n",
        "        self.assertEqual(len(sb.get_possible_cols(5)), 8)\n",
        "\n",
        "        sb.insert(6, (4,3))\n",
        "        self.assertEqual(len(sb.get_possible_cols(5)), 8)\n",
        "\n",
        "        to_insert = [(5, (1,0)),(5, (2,7)), (5, (4,4))]\n",
        "        [sb.insert(*t) for t in to_insert]\n",
        "        self.assertEqual(len(sb.get_possible_cols(5)), 5)\n",
        "\n",
        "    def test_sum_of_missing_numbers_per_square(self):\n",
        "        sb = SudokuBoard()\n",
        "        sum_missing = sb.sum_of_missing_numbers_per_square()\n",
        "        self.assertTrue(np.all(sum_missing == 45))\n",
        "        self.assertEqual(sum_missing.shape, (3,3))\n",
        "\n",
        "        to_insert = [(6, (6,5)),(7, (8,5)), (8, (7,5))]\n",
        "        [sb.insert(*t) for t in to_insert]\n",
        "        sum_missing = sb.sum_of_missing_numbers_per_square()\n",
        "        self.assertEqual(sum_missing[2,1], 24)\n",
        "        self.assertEqual(np.sum(sum_missing == 45), 8)\n",
        "\n",
        "        to_insert = [(1, (3,0)),(2, (4,2)), (3, (4,1))]\n",
        "        [sb.insert(*t) for t in to_insert]\n",
        "        sum_missing = sb.sum_of_missing_numbers_per_square()\n",
        "        self.assertEqual(sum_missing[1,0], 39)\n",
        "        self.assertEqual(sum_missing[2,1], 24)\n",
        "        self.assertEqual(np.sum(sum_missing == 45), 7)\n",
        "\n",
        "def suite():\n",
        "    suite = unittest.TestSuite()\n",
        "    testfuns = [\"test_is_valid_placing\", \"test_insert\", \n",
        "                \"test_get_row_with_most_numbers\",\n",
        "                \"test_get_possible_cols\",\n",
        "                \"test_sum_of_missing_numbers_per_square\",\n",
        "                ]\n",
        "    [suite.addTest(TestSudoku(fun)) for fun in testfuns]\n",
        "    return suite\n",
        "\n",
        "runner = unittest.TextTestRunner(verbosity=2)\n",
        "runner.run(suite())"
      ],
      "execution_count": null,
      "outputs": [
        {
          "output_type": "stream",
          "text": [
            "test_is_valid_placing (__main__.TestSudoku) ... ok\n",
            "test_insert (__main__.TestSudoku) ... ok\n",
            "test_get_row_with_most_numbers (__main__.TestSudoku) ... ok\n",
            "test_get_possible_cols (__main__.TestSudoku) ... ok\n",
            "test_sum_of_missing_numbers_per_square (__main__.TestSudoku) ... ok\n",
            "\n",
            "----------------------------------------------------------------------\n",
            "Ran 5 tests in 0.012s\n",
            "\n",
            "OK\n"
          ],
          "name": "stderr"
        },
        {
          "output_type": "execute_result",
          "data": {
            "text/plain": [
              "<unittest.runner.TextTestResult run=5 errors=0 failures=0>"
            ]
          },
          "metadata": {
            "tags": []
          },
          "execution_count": 46
        }
      ]
    },
    {
      "cell_type": "markdown",
      "metadata": {
        "id": "3HdyBYcek5CS"
      },
      "source": [
        "# Kikötések"
      ]
    },
    {
      "cell_type": "markdown",
      "metadata": {
        "id": "_izN28TUZqtp"
      },
      "source": [
        "A hatékony, vektoros NumPy megvalósításhoz minimálisra kell csökkenteni a Python parancsok számát a kódban. Például, ha egy ciklusban hívunk NumPy függvényeket és a ciklus több milliószor lefut, az tipikusan jóval kevésbé hatékony, mint ha a Python ciklust megfelelő, vektorizált NumPy hívásokkal ki tudjuk váltani és a szkript lefutása során mindössze néhány, egyszerre nagyobb mennyiségű adaton operáló NumPy hívás fut le.\n",
        "\n",
        "A ciklusok mellett az azt helyettesítő Python műveletek hatása is hasonló: a list/set/dict comprehension-ök, a `map(), filter()` függvények megvalósítása ugyancsak ciklussal történik. A NumPy-ban elérhető `np.apply_along_axis()` művelet egy adott n dimenziós tömbön operáló műveletet ismétel meg egy n+1 dimenziós tömb n dimenziós szeletein, majd összekonkatenálja az eredményt. Bár ezzel a művelettel kiváltható a Python ciklus használata, de sok esetben ez nem hatékony, így ilyenkor kerülendő ez a megközelítés. Például, ha az `np.apply_along_axis()` műveletnek megadott, ciklusban végrehajtott függvény Python változókat, vagy függvényeket használ, a megvalósítás nem lesz hatékonyabb egy egyszerű Python ciklusnál.\n",
        "\n",
        "**Kikötések a 2. és 3. feladathoz:** \n",
        "* Nem használhatók Python ciklusok, comprehension-ök és generátorok (azaz tiltott a `for` és a `while` kulcsszavak használata).\n",
        "* A feladatok nem oldhatók meg rekurzió segítségével.\n",
        "* Nem használhatók a `map()` és `filter()` beápített függvények.\n",
        "* Nem használhatók a következő, Python ciklust megvalósító, nem hatékony NumPy függvények: `np.apply_along_axis()`, `np.apply_over_axes()`, `np.vectorize()`, `np.frompyfunc()`.\n",
        "* Bár a megoldásban nem kell más méretű táblákat kezelni, de a megoldás módjának skálázhatónak kell lennie a sorok, oszlopok száma (és a beléjük írható számjegyek száma) szerint. Azaz, nem elfogadható az a megközelítés, hogy ha kilenc fajta számjegyen szeretnénk végigiterálni, akkor a ciklus használatát úgy kerüljük el, hogy a kilenc számjegyet kilenc külön utasítással kezeljük, hiszen ekkor több sor/oszlop/számjegy esetén több sornyi kódra lenne szükségünk.\n"
      ]
    }
  ]
}